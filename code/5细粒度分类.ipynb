{
 "cells": [
  {
   "cell_type": "code",
   "execution_count": 1,
   "metadata": {},
   "outputs": [
    {
     "name": "stderr",
     "output_type": "stream",
     "text": [
      "Using TensorFlow backend.\n"
     ]
    }
   ],
   "source": [
    "# 导入需要的模块\n",
    "import tensorflow as tf # tensorflow模块，深度学习框架\n",
    "import keras # keras模块，深度学习框架\n",
    "import re # 正则表达式\n",
    "import numpy as np # numpy数组\n",
    "import pandas as pd # pandas表格\n",
    "import matplotlib.pyplot as plt # matplotlib 数据可视化\n",
    "from PIL import Image # 读取图片\n",
    "from tqdm import tqdm # 显示循环进度条\n",
    "from sklearn.model_selection import train_test_split # 训练集、验证集、测试集的划分\n",
    "from itertools import product # 迭代工具\n",
    "from tensorflow.keras.models import load_model # 用于加载模型\n",
    "from sklearn.utils import class_weight # 用于计算样本的权重\n",
    "from sklearn.metrics import roc_curve, auc # 用于绘画ROC曲线，计算AUC值\n",
    "from keras.preprocessing.image import ImageDataGenerator # keras模块的图片预处理模块，可用于数据增强\n",
    "from keras.optimizers import Adam # Adam优化器\n",
    "from collections import Counter # 词频统计包\n",
    "import time\n",
    "from keras.callbacks import TensorBoard\n",
    "from keras.utils import multi_gpu_model\n",
    "from sklearn.metrics import confusion_matrix\n",
    "from keras.utils import to_categorical\n",
    "from sklearn.preprocessing import LabelEncoder"
   ]
  },
  {
   "cell_type": "code",
   "execution_count": 2,
   "metadata": {},
   "outputs": [],
   "source": [
    "import os\n",
    "os.environ[\"CUDA_VISIBLE_DEVICES\"] = \"0\""
   ]
  },
  {
   "cell_type": "code",
   "execution_count": 3,
   "metadata": {},
   "outputs": [
    {
     "data": {
      "text/html": [
       "<div>\n",
       "<style scoped>\n",
       "    .dataframe tbody tr th:only-of-type {\n",
       "        vertical-align: middle;\n",
       "    }\n",
       "\n",
       "    .dataframe tbody tr th {\n",
       "        vertical-align: top;\n",
       "    }\n",
       "\n",
       "    .dataframe thead th {\n",
       "        text-align: right;\n",
       "    }\n",
       "</style>\n",
       "<table border=\"1\" class=\"dataframe\">\n",
       "  <thead>\n",
       "    <tr style=\"text-align: right;\">\n",
       "      <th></th>\n",
       "      <th>id</th>\n",
       "      <th>comment_text</th>\n",
       "      <th>toxic</th>\n",
       "      <th>severe_toxic</th>\n",
       "      <th>obscene</th>\n",
       "      <th>threat</th>\n",
       "      <th>insult</th>\n",
       "      <th>identity_hate</th>\n",
       "      <th>non_toxic</th>\n",
       "    </tr>\n",
       "  </thead>\n",
       "  <tbody>\n",
       "    <tr>\n",
       "      <th>0</th>\n",
       "      <td>168ac3d396c7d588</td>\n",
       "      <td>if there is a chromosone then e=what is it?Sma...</td>\n",
       "      <td>0</td>\n",
       "      <td>0</td>\n",
       "      <td>0</td>\n",
       "      <td>0</td>\n",
       "      <td>0</td>\n",
       "      <td>0</td>\n",
       "      <td>1</td>\n",
       "    </tr>\n",
       "    <tr>\n",
       "      <th>1</th>\n",
       "      <td>168bc99fa2cfd9aa</td>\n",
       "      <td>Hollywood Undead \\n\\nI have collected articles...</td>\n",
       "      <td>0</td>\n",
       "      <td>0</td>\n",
       "      <td>0</td>\n",
       "      <td>0</td>\n",
       "      <td>0</td>\n",
       "      <td>0</td>\n",
       "      <td>1</td>\n",
       "    </tr>\n",
       "    <tr>\n",
       "      <th>2</th>\n",
       "      <td>168cd51c24508159</td>\n",
       "      <td>\"\\n\\n Rollback \\n\\nI've enabled rollback on yo...</td>\n",
       "      <td>0</td>\n",
       "      <td>0</td>\n",
       "      <td>0</td>\n",
       "      <td>0</td>\n",
       "      <td>0</td>\n",
       "      <td>0</td>\n",
       "      <td>1</td>\n",
       "    </tr>\n",
       "    <tr>\n",
       "      <th>3</th>\n",
       "      <td>168d515e2e99f78d</td>\n",
       "      <td>Another backlog. Thanks. (Trouble?/My Work)</td>\n",
       "      <td>0</td>\n",
       "      <td>0</td>\n",
       "      <td>0</td>\n",
       "      <td>0</td>\n",
       "      <td>0</td>\n",
       "      <td>0</td>\n",
       "      <td>1</td>\n",
       "    </tr>\n",
       "    <tr>\n",
       "      <th>4</th>\n",
       "      <td>168d5a1c66f5e8bf</td>\n",
       "      <td>\" - unsigned\\n\\nWe do include it. This article...</td>\n",
       "      <td>0</td>\n",
       "      <td>0</td>\n",
       "      <td>0</td>\n",
       "      <td>0</td>\n",
       "      <td>0</td>\n",
       "      <td>0</td>\n",
       "      <td>1</td>\n",
       "    </tr>\n",
       "  </tbody>\n",
       "</table>\n",
       "</div>"
      ],
      "text/plain": [
       "                 id                                       comment_text  toxic  \\\n",
       "0  168ac3d396c7d588  if there is a chromosone then e=what is it?Sma...      0   \n",
       "1  168bc99fa2cfd9aa  Hollywood Undead \\n\\nI have collected articles...      0   \n",
       "2  168cd51c24508159  \"\\n\\n Rollback \\n\\nI've enabled rollback on yo...      0   \n",
       "3  168d515e2e99f78d        Another backlog. Thanks. (Trouble?/My Work)      0   \n",
       "4  168d5a1c66f5e8bf  \" - unsigned\\n\\nWe do include it. This article...      0   \n",
       "\n",
       "   severe_toxic  obscene  threat  insult  identity_hate  non_toxic  \n",
       "0             0        0       0       0              0          1  \n",
       "1             0        0       0       0              0          1  \n",
       "2             0        0       0       0              0          1  \n",
       "3             0        0       0       0              0          1  \n",
       "4             0        0       0       0              0          1  "
      ]
     },
     "execution_count": 3,
     "metadata": {},
     "output_type": "execute_result"
    }
   ],
   "source": [
    "import pandas as pd\n",
    "train_data = pd.read_csv('train_data.csv',encoding='ISO-8859-1')\n",
    "test_data = pd.read_csv('test_data.csv',encoding='ISO-8859-1')\n",
    "train_data['non_toxic'] = train_data['toxic'].apply(lambda x:1 if x==0 else 0)\n",
    "test_data['non_toxic'] = test_data['toxic'].apply(lambda x:1 if x==0 else 0)\n",
    "train_data.head()"
   ]
  },
  {
   "cell_type": "code",
   "execution_count": 4,
   "metadata": {},
   "outputs": [],
   "source": [
    "form_dict={'severe_toxic':1,'obscene':2,'threat':3,'insult':4,'identity_hate':5,'non_toxic':0}\n",
    "\n",
    "tmp_traindata = train_data[['severe_toxic','obscene','threat','insult','identity_hate','non_toxic']]\n",
    "train_data['Form'] = tmp_traindata.apply(lambda row:form_dict[tmp_traindata.columns[row.tolist().index(max(row.tolist()))]] , axis = 1 )\n",
    "\n",
    "tmp_testdata = test_data[['severe_toxic','obscene','threat','insult','identity_hate','non_toxic']]\n",
    "test_data['Form'] = tmp_testdata.apply(lambda row:form_dict[tmp_testdata.columns[row.tolist().index(max(row.tolist()))]] , axis = 1 )"
   ]
  },
  {
   "cell_type": "code",
   "execution_count": 5,
   "metadata": {},
   "outputs": [
    {
     "data": {
      "text/plain": [
       "0    193488\n",
       "2      9212\n",
       "1      8116\n",
       "4      2106\n",
       "5       249\n",
       "3       205\n",
       "Name: Form, dtype: int64"
      ]
     },
     "execution_count": 5,
     "metadata": {},
     "output_type": "execute_result"
    }
   ],
   "source": [
    "train_data['Form'].value_counts()"
   ]
  },
  {
   "cell_type": "code",
   "execution_count": 6,
   "metadata": {},
   "outputs": [
    {
     "name": "stdout",
     "output_type": "stream",
     "text": [
      "分词时间：3.672091007232666\n"
     ]
    }
   ],
   "source": [
    "# 处理训练集\n",
    "# 将对应的标签拿出来\n",
    "#train_labels = np.array(train_data['Form'], dtype=np.int32)\n",
    "train_labels = to_categorical(train_data['Form'])\n",
    "t0 = time.time()\n",
    "# 分词处理\n",
    "train_intro_texts = []\n",
    "for intro in train_data['comment_text']:\n",
    "    intro = intro.replace(',',' ').replace('.',' ').replace('\\n',' ').replace('?',' ').replace('!',' ').replace(';',' ').replace(':',' ')\n",
    "    intro = intro.replace('(',' ').replace(')',' ').replace('[',' ').replace(']',' ').replace('{',' ').replace('}',' ')\n",
    "    intro = intro.replace('\"',' ').replace('.\"',' ').replace('?\"',' ').replace('!\"',' ').replace('-','')\n",
    "    intro = intro.lower()\n",
    "    intro = [i for i in intro.split()]\n",
    "    train_intro_texts.append(intro)\n",
    "print(\"分词时间：%s\"%(time.time()-t0))"
   ]
  },
  {
   "cell_type": "code",
   "execution_count": 7,
   "metadata": {},
   "outputs": [
    {
     "name": "stdout",
     "output_type": "stream",
     "text": [
      "分词时间：0.17212510108947754\n"
     ]
    }
   ],
   "source": [
    "# 处理测试集\n",
    "# 将对应的标签拿出来\n",
    "#test_labels = np.array(test_data['Form'], dtype=np.int32)\n",
    "test_labels = to_categorical(test_data['Form'])\n",
    "t0 = time.time()\n",
    "# 分词处理\n",
    "test_intro_texts = []\n",
    "for intro in test_data['comment_text']:\n",
    "    intro = intro.replace(',',' ').replace('.',' ').replace('\\n',' ').replace('?',' ').replace('!',' ').replace(';',' ').replace(':',' ')\n",
    "    intro = intro.replace('(',' ').replace(')',' ').replace('[',' ').replace(']',' ').replace('{',' ').replace('}',' ')\n",
    "    intro = intro.replace('\"',' ').replace('.\"',' ').replace('?\"',' ').replace('!\"',' ').replace('-','')\n",
    "    intro = intro.lower()\n",
    "    intro = [i for i in intro.split()]\n",
    "    test_intro_texts.append(intro)\n",
    "print(\"分词时间：%s\"%(time.time()-t0))"
   ]
  },
  {
   "cell_type": "code",
   "execution_count": 8,
   "metadata": {},
   "outputs": [
    {
     "name": "stdout",
     "output_type": "stream",
     "text": [
      "['statto', 'com', 'hello', 'yes', \"it's\", 'been', 'back', 'for', 'a', 'couple', 'of', 'weeks', 'now', 'hopefully', 'it', 'intends', 'to', 'stay', 'up', 'this', 'time', 'cheers']\n",
      "[1. 0. 0. 0. 0. 0.]\n",
      "170700\n",
      "170700\n"
     ]
    }
   ],
   "source": [
    "# 训练集，验证集，测试集的划分\n",
    "# text_s,text_test_s,\\\n",
    "# label_s,label_test_s = train_test_split(\n",
    "#     intro_texts,labels,\n",
    "#     test_size=1.0, \n",
    "#     stratify=labels,\n",
    "#     random_state=233)\n",
    "text_train,text_val,\\\n",
    "label_train,label_val = train_test_split(\n",
    "    train_intro_texts,train_labels,\n",
    "    test_size=0.2, \n",
    "    stratify=train_labels,\n",
    "    random_state=233)  # 训练集和验证集的划分\n",
    "text_test = test_intro_texts\n",
    "label_test = test_labels\n",
    "print(text_train[0])\n",
    "print(label_train[0])\n",
    "print(len(text_train))\n",
    "print(len(label_train))"
   ]
  },
  {
   "cell_type": "code",
   "execution_count": 9,
   "metadata": {},
   "outputs": [
    {
     "data": {
      "image/png": "[encoded data removed]",
      "text/plain": [
       "<Figure size 921.6x518.4 with 1 Axes>"
      ]
     },
     "metadata": {
      "needs_background": "light"
     },
     "output_type": "display_data"
    }
   ],
   "source": [
    "intro_lengths = [len(introduction) for introduction in text_train]#统计评论的长度\n",
    "\n",
    "#绘制长度的直方图\n",
    "fig,axe = plt.subplots(figsize=(12.8,7.2))\n",
    "axe.hist(intro_lengths,bins=[0,100,200,300,400,500,600,700,800,900,1000],color=\"hotpink\")\n",
    "axe.set_title(\"length distribution of introduction\",fontsize=20)\n",
    "axe.set_xlabel(\"length\",fontsize=20)\n",
    "axe.set_ylabel(\"frequency\",fontsize=20)\n",
    "plt.show()\n",
    "\n",
    "SENLEN = 400\n",
    "\n",
    "# VOCAB_SIZE 的决定:训练集上该词出现的次数>=2\n",
    "train_word_list = [word for sequence in text_train for word in sequence]\n",
    "word_counter_introduction = Counter(train_word_list)#统计每个词出现的次数\n",
    "most_common_word_in_train_introduction = word_counter_introduction.most_common()#词频降序排序\n",
    "VOCAB_SIZE = len(most_common_word_in_train_introduction) + 1 # 设置一个初值，大概率结果不是这个\n",
    "for i in range(len(most_common_word_in_train_introduction)):\n",
    "    if most_common_word_in_train_introduction[i][1] <= 1:\n",
    "        VOCAB_SIZE = i + 1 #VOCAB_SIZE设为词频>=2的词的数量\n",
    "        break\n",
    "        \n",
    "# 对训练集建表\n",
    "tokenizer = keras.preprocessing.text.Tokenizer(num_words=VOCAB_SIZE)\n",
    "tokenizer.fit_on_texts(text_train)\n",
    "\n",
    "# 将训练集的文本数字化\n",
    "text_train = tokenizer.texts_to_sequences(text_train)\n",
    "text_train = keras.preprocessing.sequence.pad_sequences(\n",
    "    text_train, maxlen=SENLEN, padding='post')\n",
    "\n",
    "# 将验证集的文本数字化\n",
    "text_val = tokenizer.texts_to_sequences(text_val)\n",
    "text_val = keras.preprocessing.sequence.pad_sequences(\n",
    "    text_val, maxlen=SENLEN, padding='post')\n",
    "\n",
    "# 将测试集的文本数字化\n",
    "text_test = tokenizer.texts_to_sequences(text_test)\n",
    "text_test = keras.preprocessing.sequence.pad_sequences(\n",
    "    text_test, maxlen=SENLEN, padding='post')"
   ]
  },
  {
   "cell_type": "markdown",
   "metadata": {},
   "source": [
    "### 尝试随机过采样"
   ]
  },
  {
   "cell_type": "code",
   "execution_count": 10,
   "metadata": {},
   "outputs": [
    {
     "name": "stdout",
     "output_type": "stream",
     "text": [
      "928740\n",
      "170700\n"
     ]
    }
   ],
   "source": [
    "from imblearn.over_sampling import RandomOverSampler\n",
    "ros = RandomOverSampler(random_state=0)\n",
    "X_resampled, y_resampled = ros.fit_resample(text_train,label_train)\n",
    "print(len(X_resampled))\n",
    "#print(sorted(Counter(y_resampled).items()))\n",
    "print(len(text_train))"
   ]
  },
  {
   "cell_type": "markdown",
   "metadata": {},
   "source": [
    "## Bi-LSTM 测试"
   ]
  },
  {
   "cell_type": "code",
   "execution_count": 11,
   "metadata": {},
   "outputs": [
    {
     "name": "stdout",
     "output_type": "stream",
     "text": [
      "_________________________________________________________________\n",
      "Layer (type)                 Output Shape              Param #   \n",
      "=================================================================\n",
      "input_1 (InputLayer)         (None, 400)               0         \n",
      "_________________________________________________________________\n",
      "embedding_1 (Embedding)      (None, 400, 128)          14036608  \n",
      "_________________________________________________________________\n",
      "bidirectional_1 (Bidirection (None, 256)               263168    \n",
      "_________________________________________________________________\n",
      "dropout_1 (Dropout)          (None, 256)               0         \n",
      "_________________________________________________________________\n",
      "dense_1 (Dense)              (None, 256)               65792     \n",
      "_________________________________________________________________\n",
      "dropout_2 (Dropout)          (None, 256)               0         \n",
      "_________________________________________________________________\n",
      "dense_2 (Dense)              (None, 128)               32896     \n",
      "_________________________________________________________________\n",
      "dropout_3 (Dropout)          (None, 128)               0         \n",
      "_________________________________________________________________\n",
      "dense_3 (Dense)              (None, 6)                 774       \n",
      "=================================================================\n",
      "Total params: 14,399,238\n",
      "Trainable params: 14,399,238\n",
      "Non-trainable params: 0\n",
      "_________________________________________________________________\n"
     ]
    }
   ],
   "source": [
    "'''\n",
    "model : Bi-LSTM\n",
    "'''\n",
    "EMBED_SIZE = 128\n",
    "\n",
    "# Bi-LSTM\n",
    "inp_text = keras.layers.Input(shape=(SENLEN,)) #输入，长度为SENLEN\n",
    "embed = keras.layers.Embedding(VOCAB_SIZE, EMBED_SIZE, input_length=SENLEN,mask_zero=True)(inp_text) #词嵌入层\n",
    "x = keras.layers.Bidirectional(keras.layers.LSTM(EMBED_SIZE))(embed)# Bi-LSTM\n",
    "x = keras.layers.Dropout(0.5)(x)\n",
    "\n",
    "x = keras.layers.Dense(256,activation='relu')(x)\n",
    "x = keras.layers.Dropout(0.5)(x)\n",
    "x = keras.layers.Dense(128,activation='relu')(x)\n",
    "x = keras.layers.Dropout(0.2)(x)\n",
    "preds=keras.layers.Dense(6,activation='sigmoid')(x) #预测层：二分类\n",
    "model2=keras.Model(inputs=inp_text,outputs=preds)\n",
    "model2.summary()"
   ]
  },
  {
   "cell_type": "code",
   "execution_count": 14,
   "metadata": {},
   "outputs": [
    {
     "name": "stdout",
     "output_type": "stream",
     "text": [
      "Train on 928740 samples, validate on 42676 samples\n",
      "Epoch 1/3\n",
      "928740/928740 [==============================] - 1967s 2ms/step - loss: 0.2587 - acc: 0.8952 - val_loss: 0.1106 - val_acc: 0.9630\n",
      "Epoch 2/3\n",
      "928740/928740 [==============================] - 1996s 2ms/step - loss: 0.0828 - acc: 0.9663 - val_loss: 0.1472 - val_acc: 0.9601\n",
      "Epoch 3/3\n",
      "928740/928740 [==============================] - 1982s 2ms/step - loss: 0.0483 - acc: 0.9825 - val_loss: 0.1677 - val_acc: 0.9648\n"
     ]
    }
   ],
   "source": [
    "model2.compile(optimizer = Adam(1e-4),loss = 'binary_crossentropy',metrics = [\"accuracy\"]) #损失函数是交叉熵，评价指标是准确率\n",
    "#model2 = multi_gpu_model(model2, 2)  #GPU个数为2\n",
    "early2_stopping = keras.callbacks.EarlyStopping(monitor=\"val_loss\", min_delta=0, patience=5, mode='min') # 采用早停的策略\n",
    "#tbCallBack = TensorBoard(log_dir=\"./model\", histogram_freq=1,write_grads=True)\n",
    "history = model2.fit(X_resampled, y_resampled,\n",
    "    validation_data=[text_val,label_val],\n",
    "    epochs=3,\n",
    "    batch_size=512,\n",
    "    callbacks=[early2_stopping],\n",
    "    #class_weight=class_weight,\n",
    "    shuffle=True)\n",
    "#model2.save('model2.h5')"
   ]
  },
  {
   "cell_type": "code",
   "execution_count": 15,
   "metadata": {},
   "outputs": [],
   "source": [
    "encoder = LabelEncoder()\n",
    "# make predictions\n",
    "pred = model2.predict(text_test)\n",
    "#pred = encoder.fit_transform(pred)\n",
    "# inverse numeric variables to initial categorical labels\n",
    "pred_labels = [np.argmax(x) for x in pred]"
   ]
  },
  {
   "cell_type": "code",
   "execution_count": 16,
   "metadata": {},
   "outputs": [
    {
     "data": {
      "text/plain": [
       "array([[7249,  236,   66,    9,   28,    5],\n",
       "       [ 406,  406,  327,   13,   61,    9],\n",
       "       [  81,  263,  659,    4,   41,    0],\n",
       "       [   5,   11,    5,    4,    2,    1],\n",
       "       [  58,   98,   58,    1,   40,    5],\n",
       "       [   5,    5,    3,    2,    3,    4]])"
      ]
     },
     "execution_count": 16,
     "metadata": {},
     "output_type": "execute_result"
    }
   ],
   "source": [
    "cf = confusion_matrix(test_data['Form'],pred_labels)\n",
    "cf"
   ]
  },
  {
   "cell_type": "code",
   "execution_count": 18,
   "metadata": {},
   "outputs": [
    {
     "name": "stdout",
     "output_type": "stream",
     "text": [
      "Accuracy: 0.911629\n",
      "Precision: 0.928883\n",
      "Recall: 0.954695\n",
      "Specificity: 0.784884\n",
      "F1-Score: 0.941612\n"
     ]
    }
   ],
   "source": [
    "print(\"Accuracy: %3f\"%((TP+TN)/(TP+TN+FP+FN)))\n",
    "print(\"Precision: %3f\"%(TP/(TP+FP)))\n",
    "print(\"Recall: %3f\"%((TP)/(TP+FN)))\n",
    "print(\"Specificity: %3f\"%((TN)/(TN+FP)))\n",
    "precision = TP/(TP+FP)\n",
    "recall = (TP)/(TP+FN)\n",
    "F1Score = 2*recall*precision/(recall+precision)\n",
    "print(\"F1-Score: %3f\"%F1Score)"
   ]
  }
 ],
 "metadata": {
  "kernelspec": {
   "display_name": "myconda",
   "language": "python",
   "name": "myconda"
  },
  "language_info": {
   "codemirror_mode": {
    "name": "ipython",
    "version": 3
   },
   "file_extension": ".py",
   "mimetype": "text/x-python",
   "name": "python",
   "nbconvert_exporter": "python",
   "pygments_lexer": "ipython3",
   "version": "3.8.12"
  }
 },
 "nbformat": 4,
 "nbformat_minor": 4
}
