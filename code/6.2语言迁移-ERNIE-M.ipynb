{
 "cells": [
  {
   "cell_type": "markdown",
   "metadata": {
    "collapsed": false
   },
   "source": [
    "## ERNIE-M JIGSAW"
   ]
  },
  {
   "cell_type": "code",
   "execution_count": null,
   "metadata": {
    "collapsed": false
   },
   "outputs": [
    {
     "name": "stdout",
     "output_type": "stream",
     "text": [
      "data150331\r\n"
     ]
    }
   ],
   "source": [
    "# 查看当前挂载的数据集目录, 该目录下的变更重启环境后会自动还原\n",
    "# View dataset directory. \n",
    "# This directory will be recovered automatically after resetting environment. \n",
    "!ls /home/aistudio/data"
   ]
  },
  {
   "cell_type": "code",
   "execution_count": null,
   "metadata": {
    "collapsed": false
   },
   "outputs": [],
   "source": [
    "# 查看工作区文件, 该目录下的变更将会持久保存. 请及时清理不必要的文件, 避免加载过慢.\n",
    "# View personal work directory. \n",
    "# All changes under this directory will be kept even after reset. \n",
    "# Please clean unnecessary files in time to speed up environment loading. \n",
    "!ls /home/aistudio/work"
   ]
  },
  {
   "cell_type": "code",
   "execution_count": null,
   "metadata": {
    "collapsed": false
   },
   "outputs": [],
   "source": [
    "# 同时添加如下代码, 这样每次环境(kernel)启动的时候只要运行下方代码即可: \n",
    "# Also add the following code, \n",
    "# so that every time the environment (kernel) starts, \n",
    "# just run the following code: \n",
    "import sys \n",
    "sys.path.append('/home/aistudio/external-libraries')"
   ]
  },
  {
   "cell_type": "code",
   "execution_count": null,
   "metadata": {
    "collapsed": false
   },
   "outputs": [
    {
     "name": "stdout",
     "output_type": "stream",
     "text": [
      "Looking in indexes: https://pypi.tuna.tsinghua.edu.cn/simple\n",
      "Requirement already satisfied: paddlenlp in /opt/conda/envs/python35-paddle120-env/lib/python3.7/site-packages (2.1.1)\n",
      "Collecting paddlenlp\n",
      "  Downloading https://pypi.tuna.tsinghua.edu.cn/packages/7a/31/162931501c562c5db43c366643fd0d634aa41f85f6165885cd073d1721a2/paddlenlp-2.3.3-py3-none-any.whl (1.4 MB)\n",
      "\u001b[2K     \u001b[90m━━━━━━━━━━━━━━━━━━━━━━━━━━━━━━━━━━━━━━━━\u001b[0m \u001b[32m1.4/1.4 MB\u001b[0m \u001b[31m2.3 MB/s\u001b[0m eta \u001b[36m0:00:00\u001b[0m00:01\u001b[0m00:01\u001b[0m\n",
      "\u001b[?25hRequirement already satisfied: sentencepiece in /opt/conda/envs/python35-paddle120-env/lib/python3.7/site-packages (from paddlenlp) (0.1.96)\n",
      "Requirement already satisfied: jieba in /opt/conda/envs/python35-paddle120-env/lib/python3.7/site-packages (from paddlenlp) (0.42.1)\n",
      "Collecting datasets>=2.0.0\n",
      "  Downloading https://pypi.tuna.tsinghua.edu.cn/packages/ca/8d/560063945adeb394f01217cff629c2d6e5334060452dc7a507bc504f05cd/datasets-2.2.2-py3-none-any.whl (346 kB)\n",
      "\u001b[2K     \u001b[90m━━━━━━━━━━━━━━━━━━━━━━━━━━━━━━━━━━━━━\u001b[0m \u001b[32m346.8/346.8 KB\u001b[0m \u001b[31m548.2 kB/s\u001b[0m eta \u001b[36m0:00:00\u001b[0m00:01\u001b[0m00:01\u001b[0m\n",
      "\u001b[?25hRequirement already satisfied: multiprocess<=0.70.12.2 in /opt/conda/envs/python35-paddle120-env/lib/python3.7/site-packages (from paddlenlp) (0.70.11.1)\n",
      "Requirement already satisfied: protobuf<=3.20.0,>=3.1.0 in /opt/conda/envs/python35-paddle120-env/lib/python3.7/site-packages (from paddlenlp) (3.14.0)\n",
      "Requirement already satisfied: colorlog in /opt/conda/envs/python35-paddle120-env/lib/python3.7/site-packages (from paddlenlp) (4.1.0)\n",
      "Requirement already satisfied: colorama in /opt/conda/envs/python35-paddle120-env/lib/python3.7/site-packages (from paddlenlp) (0.4.4)\n",
      "Requirement already satisfied: tqdm in /opt/conda/envs/python35-paddle120-env/lib/python3.7/site-packages (from paddlenlp) (4.27.0)\n",
      "Requirement already satisfied: dill<0.3.5 in /opt/conda/envs/python35-paddle120-env/lib/python3.7/site-packages (from paddlenlp) (0.3.3)\n",
      "Requirement already satisfied: paddlefsl in /opt/conda/envs/python35-paddle120-env/lib/python3.7/site-packages (from paddlenlp) (1.0.0)\n",
      "Collecting paddle2onnx\n",
      "  Downloading https://pypi.tuna.tsinghua.edu.cn/packages/70/cc/51680d1298d6ed14a4f88ee4fa3a27819936601a1df660e1c2f827336d9d/paddle2onnx-0.9.7-cp37-cp37m-manylinux_2_12_x86_64.manylinux2010_x86_64.whl (2.7 MB)\n",
      "\u001b[2K     \u001b[90m━━━━━━━━━━━━━━━━━━━━━━━━━━━━━━━━━━━━━━━━\u001b[0m \u001b[32m2.7/2.7 MB\u001b[0m \u001b[31m1.8 MB/s\u001b[0m eta \u001b[36m0:00:00\u001b[0m00:01\u001b[0m00:01\u001b[0m\n",
      "\u001b[?25hRequirement already satisfied: seqeval in /opt/conda/envs/python35-paddle120-env/lib/python3.7/site-packages (from paddlenlp) (1.2.2)\n",
      "Collecting fsspec[http]>=2021.05.0\n",
      "  Downloading https://pypi.tuna.tsinghua.edu.cn/packages/bd/4c/166d788feff5c739b833342945bbba406581095fb6c4a056113fae646b5c/fsspec-2022.5.0-py3-none-any.whl (140 kB)\n",
      "\u001b[2K     \u001b[90m━━━━━━━━━━━━━━━━━━━━━━━━━━━━━━━━━━━━━━━\u001b[0m \u001b[32m140.6/140.6 KB\u001b[0m \u001b[31m4.0 MB/s\u001b[0m eta \u001b[36m0:00:00\u001b[0m\n",
      "\u001b[?25hRequirement already satisfied: pandas in /opt/conda/envs/python35-paddle120-env/lib/python3.7/site-packages (from datasets>=2.0.0->paddlenlp) (1.1.5)\n",
      "Requirement already satisfied: requests>=2.19.0 in /opt/conda/envs/python35-paddle120-env/lib/python3.7/site-packages (from datasets>=2.0.0->paddlenlp) (2.24.0)\n",
      "Collecting tqdm\n",
      "  Downloading https://pypi.tuna.tsinghua.edu.cn/packages/8a/c4/d15f1e627fff25443ded77ea70a7b5532d6371498f9285d44d62587e209c/tqdm-4.64.0-py2.py3-none-any.whl (78 kB)\n",
      "\u001b[2K     \u001b[90m━━━━━━━━━━━━━━━━━━━━━━━━━━━━━━━━━━━━━━━━\u001b[0m \u001b[32m78.4/78.4 KB\u001b[0m \u001b[31m4.7 MB/s\u001b[0m eta \u001b[36m0:00:00\u001b[0m\n",
      "\u001b[?25hCollecting xxhash\n",
      "  Downloading https://pypi.tuna.tsinghua.edu.cn/packages/ef/ac/0eb796cf052c392f1ae586452c89ca66164f7d4f655b039ca3d06e2291af/xxhash-3.0.0-cp37-cp37m-manylinux_2_17_x86_64.manylinux2014_x86_64.whl (212 kB)\n",
      "\u001b[2K     \u001b[90m━━━━━━━━━━━━━━━━━━━━━━━━━━━━━━━━━━━━━━━\u001b[0m \u001b[32m212.2/212.2 KB\u001b[0m \u001b[31m3.6 MB/s\u001b[0m eta \u001b[36m0:00:00\u001b[0ma \u001b[36m0:00:01\u001b[0m\n",
      "\u001b[?25hCollecting aiohttp\n",
      "  Downloading https://pypi.tuna.tsinghua.edu.cn/packages/dd/fe/80c594d62a7ff07730fd2cfc3a058498087436d8c938243e0610d1928f0e/aiohttp-3.8.1-cp37-cp37m-manylinux_2_5_x86_64.manylinux1_x86_64.manylinux_2_12_x86_64.manylinux2010_x86_64.whl (1.1 MB)\n",
      "\u001b[2K     \u001b[90m━━━━━━━━━━━━━━━━━━━━━━━━━━━━━━━━━━━━━━━━\u001b[0m \u001b[32m1.1/1.1 MB\u001b[0m \u001b[31m2.1 MB/s\u001b[0m eta \u001b[36m0:00:00\u001b[0m00:01\u001b[0m00:01\u001b[0m\n",
      "\u001b[?25hCollecting responses<0.19\n",
      "  Downloading https://pypi.tuna.tsinghua.edu.cn/packages/79/f3/2b3a6dc5986303b3dd1bbbcf482022acb2583c428cd23f0b6d37b1a1a519/responses-0.18.0-py3-none-any.whl (38 kB)\n",
      "Requirement already satisfied: importlib-metadata in /opt/conda/envs/python35-paddle120-env/lib/python3.7/site-packages (from datasets>=2.0.0->paddlenlp) (4.2.0)\n",
      "Requirement already satisfied: numpy>=1.17 in /opt/conda/envs/python35-paddle120-env/lib/python3.7/site-packages (from datasets>=2.0.0->paddlenlp) (1.19.5)\n",
      "Requirement already satisfied: packaging in /opt/conda/envs/python35-paddle120-env/lib/python3.7/site-packages (from datasets>=2.0.0->paddlenlp) (21.3)\n",
      "Collecting huggingface-hub<1.0.0,>=0.1.0\n",
      "  Downloading https://pypi.tuna.tsinghua.edu.cn/packages/12/d9/ff5464ad8e25d8cf4c4b37a05dcb6535c29bef2ac8bafebc95dfb8899296/huggingface_hub-0.7.0-py3-none-any.whl (86 kB)\n",
      "\u001b[2K     \u001b[90m━━━━━━━━━━━━━━━━━━━━━━━━━━━━━━━━━━━━━━━━\u001b[0m \u001b[32m86.2/86.2 KB\u001b[0m \u001b[31m3.1 MB/s\u001b[0m eta \u001b[36m0:00:00\u001b[0m\n",
      "\u001b[?25hCollecting pyarrow>=6.0.0\n",
      "  Downloading https://pypi.tuna.tsinghua.edu.cn/packages/af/7d/94064bf0b44cf9e3cf67bdb90735f01d1d53a3973f8d59da99dc9ed58303/pyarrow-8.0.0-cp37-cp37m-manylinux_2_17_x86_64.manylinux2014_x86_64.whl (29.3 MB)\n",
      "\u001b[2K     \u001b[90m━━━━━━━━━━━━━━━━━━━━━━━━━━━━━━━━━━━━━━━━\u001b[0m \u001b[32m29.3/29.3 MB\u001b[0m \u001b[31m3.3 MB/s\u001b[0m eta \u001b[36m0:00:00\u001b[0m00:01\u001b[0m00:01\u001b[0m\n",
      "\u001b[?25hRequirement already satisfied: six>=1.9 in /opt/conda/envs/python35-paddle120-env/lib/python3.7/site-packages (from protobuf<=3.20.0,>=3.1.0->paddlenlp) (1.16.0)\n",
      "Collecting paddlefsl\n",
      "  Downloading https://pypi.tuna.tsinghua.edu.cn/packages/fb/4a/25d1959a8f1fe5ee400f32fc9fc8b56d4fd6fc25315e23c0171f6e705e2a/paddlefsl-1.1.0-py3-none-any.whl (101 kB)\n",
      "\u001b[2K     \u001b[90m━━━━━━━━━━━━━━━━━━━━━━━━━━━━━━━━━━━━━━━\u001b[0m \u001b[32m101.0/101.0 KB\u001b[0m \u001b[31m4.1 MB/s\u001b[0m eta \u001b[36m0:00:00\u001b[0m\n",
      "\u001b[?25hRequirement already satisfied: scikit-learn>=0.21.3 in /opt/conda/envs/python35-paddle120-env/lib/python3.7/site-packages (from seqeval->paddlenlp) (0.24.2)\n",
      "Requirement already satisfied: filelock in /opt/conda/envs/python35-paddle120-env/lib/python3.7/site-packages (from huggingface-hub<1.0.0,>=0.1.0->datasets>=2.0.0->paddlenlp) (3.0.12)\n",
      "Requirement already satisfied: pyyaml>=5.1 in /opt/conda/envs/python35-paddle120-env/lib/python3.7/site-packages (from huggingface-hub<1.0.0,>=0.1.0->datasets>=2.0.0->paddlenlp) (5.1.2)\n",
      "Requirement already satisfied: typing-extensions>=3.7.4.3 in /opt/conda/envs/python35-paddle120-env/lib/python3.7/site-packages (from huggingface-hub<1.0.0,>=0.1.0->datasets>=2.0.0->paddlenlp) (4.2.0)\n",
      "Requirement already satisfied: pyparsing!=3.0.5,>=2.0.2 in /opt/conda/envs/python35-paddle120-env/lib/python3.7/site-packages (from packaging->datasets>=2.0.0->paddlenlp) (3.0.8)\n",
      "Requirement already satisfied: chardet<4,>=3.0.2 in /opt/conda/envs/python35-paddle120-env/lib/python3.7/site-packages (from requests>=2.19.0->datasets>=2.0.0->paddlenlp) (3.0.4)\n",
      "Requirement already satisfied: certifi>=2017.4.17 in /opt/conda/envs/python35-paddle120-env/lib/python3.7/site-packages (from requests>=2.19.0->datasets>=2.0.0->paddlenlp) (2019.9.11)\n",
      "Requirement already satisfied: urllib3!=1.25.0,!=1.25.1,<1.26,>=1.21.1 in /opt/conda/envs/python35-paddle120-env/lib/python3.7/site-packages (from requests>=2.19.0->datasets>=2.0.0->paddlenlp) (1.25.6)\n",
      "Requirement already satisfied: idna<3,>=2.5 in /opt/conda/envs/python35-paddle120-env/lib/python3.7/site-packages (from requests>=2.19.0->datasets>=2.0.0->paddlenlp) (2.8)\n",
      "Collecting urllib3!=1.25.0,!=1.25.1,<1.26,>=1.21.1\n",
      "  Downloading https://pypi.tuna.tsinghua.edu.cn/packages/56/aa/4ef5aa67a9a62505db124a5cb5262332d1d4153462eb8fd89c9fa41e5d92/urllib3-1.25.11-py2.py3-none-any.whl (127 kB)\n",
      "\u001b[2K     \u001b[90m━━━━━━━━━━━━━━━━━━━━━━━━━━━━━━━━━━━━━\u001b[0m \u001b[32m128.0/128.0 KB\u001b[0m \u001b[31m474.5 kB/s\u001b[0m eta \u001b[36m0:00:00\u001b[0ma \u001b[36m0:00:01\u001b[0m\n",
      "\u001b[?25hRequirement already satisfied: scipy>=0.19.1 in /opt/conda/envs/python35-paddle120-env/lib/python3.7/site-packages (from scikit-learn>=0.21.3->seqeval->paddlenlp) (1.6.3)\n",
      "Requirement already satisfied: threadpoolctl>=2.0.0 in /opt/conda/envs/python35-paddle120-env/lib/python3.7/site-packages (from scikit-learn>=0.21.3->seqeval->paddlenlp) (2.1.0)\n",
      "Requirement already satisfied: joblib>=0.11 in /opt/conda/envs/python35-paddle120-env/lib/python3.7/site-packages (from scikit-learn>=0.21.3->seqeval->paddlenlp) (0.14.1)\n",
      "Collecting charset-normalizer<3.0,>=2.0\n",
      "  Downloading https://pypi.tuna.tsinghua.edu.cn/packages/06/b3/24afc8868eba069a7f03650ac750a778862dc34941a4bebeb58706715726/charset_normalizer-2.0.12-py3-none-any.whl (39 kB)\n",
      "Collecting frozenlist>=1.1.1\n",
      "  Downloading https://pypi.tuna.tsinghua.edu.cn/packages/d1/ae/e4437fe5b5ba0fbccdaf8ecde8e3b6e8903793ca638c4706d034c0969ce1/frozenlist-1.3.0-cp37-cp37m-manylinux_2_5_x86_64.manylinux1_x86_64.manylinux_2_17_x86_64.manylinux2014_x86_64.whl (144 kB)\n",
      "\u001b[2K     \u001b[90m━━━━━━━━━━━━━━━━━━━━━━━━━━━━━━━━━━━━━━━\u001b[0m \u001b[32m144.8/144.8 KB\u001b[0m \u001b[31m3.6 MB/s\u001b[0m eta \u001b[36m0:00:00\u001b[0m00:01\u001b[0m\n",
      "\u001b[?25hCollecting aiosignal>=1.1.2\n",
      "  Downloading https://pypi.tuna.tsinghua.edu.cn/packages/3b/87/fe94898f2d44a93a35d5aa74671ed28094d80753a1113d68b799fab6dc22/aiosignal-1.2.0-py3-none-any.whl (8.2 kB)\n",
      "Requirement already satisfied: attrs>=17.3.0 in /opt/conda/envs/python35-paddle120-env/lib/python3.7/site-packages (from aiohttp->datasets>=2.0.0->paddlenlp) (21.4.0)\n",
      "Collecting asynctest==0.13.0\n",
      "  Downloading https://pypi.tuna.tsinghua.edu.cn/packages/e8/b6/8d17e169d577ca7678b11cd0d3ceebb0a6089a7f4a2de4b945fe4b1c86db/asynctest-0.13.0-py3-none-any.whl (26 kB)\n",
      "Collecting multidict<7.0,>=4.5\n",
      "  Downloading https://pypi.tuna.tsinghua.edu.cn/packages/db/3f/1c876ed190e8fcd1a2faef3085427e5465076e28813a2499502633f7eed3/multidict-6.0.2-cp37-cp37m-manylinux_2_17_x86_64.manylinux2014_x86_64.whl (94 kB)\n",
      "\u001b[2K     \u001b[90m━━━━━━━━━━━━━━━━━━━━━━━━━━━━━━━━━━━━━━━━\u001b[0m \u001b[32m94.8/94.8 KB\u001b[0m \u001b[31m5.2 MB/s\u001b[0m eta \u001b[36m0:00:00\u001b[0m\n",
      "\u001b[?25hCollecting yarl<2.0,>=1.0\n",
      "  Downloading https://pypi.tuna.tsinghua.edu.cn/packages/80/7f/af3ecdf87e8e41da7b133f1d61f82745f8c862bdade3b56addee3ad23956/yarl-1.7.2-cp37-cp37m-manylinux_2_5_x86_64.manylinux1_x86_64.manylinux_2_12_x86_64.manylinux2010_x86_64.whl (271 kB)\n",
      "\u001b[2K     \u001b[90m━━━━━━━━━━━━━━━━━━━━━━━━━━━━━━━━━━━━━━━\u001b[0m \u001b[32m271.8/271.8 KB\u001b[0m \u001b[31m4.0 MB/s\u001b[0m eta \u001b[36m0:00:00\u001b[0ma \u001b[36m0:00:01\u001b[0m\n",
      "\u001b[?25hCollecting async-timeout<5.0,>=4.0.0a3\n",
      "  Downloading https://pypi.tuna.tsinghua.edu.cn/packages/d6/c1/8991e7c5385b897b8c020cdaad718c5b087a6626d1d11a23e1ea87e325a7/async_timeout-4.0.2-py3-none-any.whl (5.8 kB)\n",
      "Requirement already satisfied: zipp>=0.5 in /opt/conda/envs/python35-paddle120-env/lib/python3.7/site-packages (from importlib-metadata->datasets>=2.0.0->paddlenlp) (3.8.0)\n",
      "Requirement already satisfied: python-dateutil>=2.7.3 in /opt/conda/envs/python35-paddle120-env/lib/python3.7/site-packages (from pandas->datasets>=2.0.0->paddlenlp) (2.8.2)\n",
      "Requirement already satisfied: pytz>=2017.2 in /opt/conda/envs/python35-paddle120-env/lib/python3.7/site-packages (from pandas->datasets>=2.0.0->paddlenlp) (2019.3)\n",
      "Installing collected packages: paddle2onnx, xxhash, urllib3, tqdm, pyarrow, multidict, fsspec, frozenlist, charset-normalizer, asynctest, async-timeout, yarl, aiosignal, responses, paddlefsl, huggingface-hub, aiohttp, datasets, paddlenlp\n",
      "  Attempting uninstall: urllib3\n",
      "    Found existing installation: urllib3 1.25.6\n",
      "    Uninstalling urllib3-1.25.6:\n",
      "      Successfully uninstalled urllib3-1.25.6\n",
      "  Attempting uninstall: tqdm\n",
      "    Found existing installation: tqdm 4.27.0\n",
      "    Uninstalling tqdm-4.27.0:\n",
      "      Successfully uninstalled tqdm-4.27.0\n",
      "  Attempting uninstall: pyarrow\n",
      "    Found existing installation: pyarrow 2.0.0\n",
      "    Uninstalling pyarrow-2.0.0:\n",
      "      Successfully uninstalled pyarrow-2.0.0\n",
      "  Attempting uninstall: paddlefsl\n",
      "    Found existing installation: paddlefsl 1.0.0\n",
      "    Uninstalling paddlefsl-1.0.0:\n",
      "      Successfully uninstalled paddlefsl-1.0.0\n",
      "  Attempting uninstall: paddlenlp\n",
      "    Found existing installation: paddlenlp 2.1.1\n",
      "    Uninstalling paddlenlp-2.1.1:\n",
      "      Successfully uninstalled paddlenlp-2.1.1\n",
      "\u001b[31mERROR: pip's dependency resolver does not currently take into account all the packages that are installed. This behaviour is the source of the following dependency conflicts.\n",
      "parl 1.4.1 requires pyzmq==18.1.1, but you have pyzmq 22.3.0 which is incompatible.\u001b[0m\u001b[31m\n",
      "\u001b[0mSuccessfully installed aiohttp-3.8.1 aiosignal-1.2.0 async-timeout-4.0.2 asynctest-0.13.0 charset-normalizer-2.0.12 datasets-2.2.2 frozenlist-1.3.0 fsspec-2022.5.0 huggingface-hub-0.7.0 multidict-6.0.2 paddle2onnx-0.9.7 paddlefsl-1.1.0 paddlenlp-2.3.3 pyarrow-8.0.0 responses-0.18.0 tqdm-4.64.0 urllib3-1.25.11 xxhash-3.0.0 yarl-1.7.2\n",
      "\u001b[33mWARNING: You are using pip version 22.0.4; however, version 22.1.2 is available.\n",
      "You should consider upgrading via the '/opt/conda/envs/python35-paddle120-env/bin/python -m pip install --upgrade pip' command.\u001b[0m\u001b[33m\n",
      "\u001b[0m"
     ]
    }
   ],
   "source": [
    "!pip install --upgrade paddlenlp"
   ]
  },
  {
   "cell_type": "code",
   "execution_count": null,
   "metadata": {
    "collapsed": false
   },
   "outputs": [
    {
     "name": "stdout",
     "output_type": "stream",
     "text": [
      "Looking in indexes: https://pypi.tuna.tsinghua.edu.cn/simple\n",
      "Collecting imblearn\n",
      "  Downloading https://pypi.tuna.tsinghua.edu.cn/packages/81/a7/4179e6ebfd654bd0eac0b9c06125b8b4c96a9d0a8ff9e9507eb2a26d2d7e/imblearn-0.0-py2.py3-none-any.whl (1.9 kB)\n",
      "Collecting imbalanced-learn\n",
      "  Downloading https://pypi.tuna.tsinghua.edu.cn/packages/19/79/e86c8fd859dca4fb1fbfc61376afc63210177a235a7bfbe7219b02edf8f3/imbalanced_learn-0.9.1-py3-none-any.whl (199 kB)\n",
      "     l     ━━━━━━━━━━━━━━━━━━━━━━━━━━━━━━━━━━━━━━━━ 0.0/199.3 KB ? eta -:--:--━━━━━━━━━━━━━━━━━━━━━━━━━━━━━━━━━━━━━━╺ 194.6/199.3 KB 7.8 MB/s eta 0:00:01━━━━━━━━━━━━━━━━━━━━━━━━━━━━━━━━━━━━━━━ 199.3/199.3 KB 3.9 MB/s eta 0:00:00\n",
      "\u001b[?25hRequirement already satisfied: numpy>=1.17.3 in /opt/conda/envs/python35-paddle120-env/lib/python3.7/site-packages (from imbalanced-learn->imblearn) (1.19.5)\n",
      "  Downloading https://pypi.tuna.tsinghua.edu.cn/packages/83/92/a4d1f42b29e9f62f9c3fad68d28282a9610a02801e1d89945702f981dd8e/imbalanced_learn-0.9.0-py3-none-any.whl (199 kB)\n",
      "     l     ━━━━━━━━━━━━━━━━━━━━━━━━━━━━━━━━━━━━━━━━ 0.0/199.1 KB ? eta -:--:--━━━━━━━━━━━━━━━━━━━━━━━━━━━━━━━━━━━━━━ 199.1/199.1 KB 11.5 MB/s eta 0:00:00\n",
      "\u001b[?25hRequirement already satisfied: scipy>=1.1.0 in /opt/conda/envs/python35-paddle120-env/lib/python3.7/site-packages (from imbalanced-learn->imblearn) (1.6.3)\n",
      "Requirement already satisfied: threadpoolctl>=2.0.0 in /opt/conda/envs/python35-paddle120-env/lib/python3.7/site-packages (from imbalanced-learn->imblearn) (2.1.0)\n",
      "Collecting scikit-learn>=1.0.1\n",
      "  Downloading https://pypi.tuna.tsinghua.edu.cn/packages/bd/05/e561bc99a615b5c099c7a9355409e5e57c525a108f1c2e156abb005b90a6/scikit_learn-1.0.2-cp37-cp37m-manylinux_2_17_x86_64.manylinux2014_x86_64.whl (24.8 MB)\n",
      "     l     ━━━━━━━━━━━━━━━━━━━━━━━━━━━━━━━━━━━━━━━━ 0.0/24.8 MB ? eta -:--:--━━━━━━━━━━━━━━━━━━━━━━━━━━━━━━━━━━━━━━━━ 0.2/24.8 MB 9.0 MB/s eta 0:00:03╸━━━━━━━━━━━━━━━━━━━━━━━━━━━━━━━━━━━━━━━ 0.5/24.8 MB 6.8 MB/s eta 0:00:04━╺━━━━━━━━━━━━━━━━━━━━━━━━━━━━━━━━━━━━━━ 0.6/24.8 MB 6.1 MB/s eta 0:00:04━╺━━━━━━━━━━━━━━━━━━━━━━━━━━━━━━━━━━━━━━ 0.7/24.8 MB 5.8 MB/s eta 0:00:05━╸━━━━━━━━━━━━━━━━━━━━━━━━━━━━━━━━━━━━━━ 1.0/24.8 MB 5.4 MB/s eta 0:00:05━╸━━━━━━━━━━━━━━━━━━━━━━━━━━━━━━━━━━━━━━ 1.1/24.8 MB 5.1 MB/s eta 0:00:05━━╺━━━━━━━━━━━━━━━━━━━━━━━━━━━━━━━━━━━━━ 1.3/24.8 MB 5.5 MB/s eta 0:00:05━━╺━━━━━━━━━━━━━━━━━━━━━━━━━━━━━━━━━━━━━ 1.5/24.8 MB 5.5 MB/s eta 0:00:05━━╸━━━━━━━━━━━━━━━━━━━━━━━━━━━━━━━━━━━━━ 1.7/24.8 MB 5.3 MB/s eta 0:00:05━━━╺━━━━━━━━━━━━━━━━━━━━━━━━━━━━━━━━━━━━ 1.9/24.8 MB 5.4 MB/s eta 0:00:05━━━╺━━━━━━━━━━━━━━━━━━━━━━━━━━━━━━━━━━━━ 2.1/24.8 MB 5.3 MB/s eta 0:00:05━━━╸━━━━━━━━━━━━━━━━━━━━━━━━━━━━━━━━━━━━ 2.3/24.8 MB 5.4 MB/s eta 0:00:05━━━╸━━━━━━━━━━━━━━━━━━━━━━━━━━━━━━━━━━━━ 2.4/24.8 MB 5.2 MB/s eta 0:00:05━━━━╺━━━━━━━━━━━━━━━━━━━━━━━━━━━━━━━━━━━ 2.5/24.8 MB 5.1 MB/s eta 0:00:05━━━━╺━━━━━━━━━━━━━━━━━━━━━━━━━━━━━━━━━━━ 2.7/24.8 MB 5.1 MB/s eta 0:00:05━━━━╸━━━━━━━━━━━━━━━━━━━━━━━━━━━━━━━━━━━ 2.9/24.8 MB 5.1 MB/s eta 0:00:05━━━━╸━━━━━━━━━━━━━━━━━━━━━━━━━━━━━━━━━━━ 3.1/24.8 MB 5.1 MB/s eta 0:00:05━━━━━╺━━━━━━━━━━━━━━━━━━━━━━━━━━━━━━━━━━ 3.2/24.8 MB 5.0 MB/s eta 0:00:05━━━━━╺━━━━━━━━━━━━━━━━━━━━━━━━━━━━━━━━━━ 3.4/24.8 MB 5.0 MB/s eta 0:00:05━━━━━╸━━━━━━━━━━━━━━━━━━━━━━━━━━━━━━━━━━ 3.5/24.8 MB 4.9 MB/s eta 0:00:05━━━━━╸━━━━━━━━━━━━━━━━━━━━━━━━━━━━━━━━━━ 3.7/24.8 MB 4.9 MB/s eta 0:00:05━━━━━━╺━━━━━━━━━━━━━━━━━━━━━━━━━━━━━━━━━ 3.8/24.8 MB 4.9 MB/s eta 0:00:05━━━━━━╺━━━━━━━━━━━━━━━━━━━━━━━━━━━━━━━━━ 3.9/24.8 MB 4.8 MB/s eta 0:00:05━━━━━━╸━━━━━━━━━━━━━━━━━━━━━━━━━━━━━━━━━ 4.1/24.8 MB 4.8 MB/s eta 0:00:05━━━━━━╸━━━━━━━━━━━━━━━━━━━━━━━━━━━━━━━━━ 4.2/24.8 MB 4.7 MB/s eta 0:00:05━━━━━━╸━━━━━━━━━━━━━━━━━━━━━━━━━━━━━━━━━ 4.3/24.8 MB 4.7 MB/s eta 0:00:05━━━━━━━╺━━━━━━━━━━━━━━━━━━━━━━━━━━━━━━━━ 4.5/24.8 MB 4.6 MB/s eta 0:00:05━━━━━━━╺━━━━━━━━━━━━━━━━━━━━━━━━━━━━━━━━ 4.6/24.8 MB 4.6 MB/s eta 0:00:05━━━━━━━╸━━━━━━━━━━━━━━━━━━━━━━━━━━━━━━━━ 4.7/24.8 MB 4.6 MB/s eta 0:00:05━━━━━━━╸━━━━━━━━━━━━━━━━━━━━━━━━━━━━━━━━ 4.8/24.8 MB 4.5 MB/s eta 0:00:05━━━━━━━╸━━━━━━━━━━━━━━━━━━━━━━━━━━━━━━━━ 4.9/24.8 MB 4.4 MB/s eta 0:00:05━━━━━━━━╺━━━━━━━━━━━━━━━━━━━━━━━━━━━━━━━ 5.0/24.8 MB 4.4 MB/s eta 0:00:05━━━━━━━━╺━━━━━━━━━━━━━━━━━━━━━━━━━━━━━━━ 5.1/24.8 MB 4.4 MB/s eta 0:00:05━━━━━━━━╺━━━━━━━━━━━━━━━━━━━━━━━━━━━━━━━ 5.2/24.8 MB 4.3 MB/s eta 0:00:05━━━━━━━━╸━━━━━━━━━━━━━━━━━━━━━━━━━━━━━━━ 5.3/24.8 MB 4.2 MB/s eta 0:00:05━━━━━━━━╸━━━━━━━━━━━━━━━━━━━━━━━━━━━━━━━ 5.4/24.8 MB 4.2 MB/s eta 0:00:05━━━━━━━━╸━━━━━━━━━━━━━━━━━━━━━━━━━━━━━━━ 5.5/24.8 MB 4.2 MB/s eta 0:00:05━━━━━━━━━╺━━━━━━━━━━━━━━━━━━━━━━━━━━━━━━ 5.6/24.8 MB 4.1 MB/s eta 0:00:05━━━━━━━━━╺━━━━━━━━━━━━━━━━━━━━━━━━━━━━━━ 5.7/24.8 MB 4.1 MB/s eta 0:00:05━━━━━━━━━╺━━━━━━━━━━━━━━━━━━━━━━━━━━━━━━ 5.8/24.8 MB 4.1 MB/s eta 0:00:05━━━━━━━━━╸━━━━━━━━━━━━━━━━━━━━━━━━━━━━━━ 6.0/24.8 MB 4.1 MB/s eta 0:00:05━━━━━━━━━╸━━━━━━━━━━━━━━━━━━━━━━━━━━━━━━ 6.1/24.8 MB 4.0 MB/s eta 0:00:05━━━━━━━━━╸━━━━━━━━━━━━━━━━━━━━━━━━━━━━━━ 6.2/24.8 MB 4.0 MB/s eta 0:00:05━━━━━━━━━━╺━━━━━━━━━━━━━━━━━━━━━━━━━━━━━ 6.3/24.8 MB 4.0 MB/s eta 0:00:05━━━━━━━━━━╺━━━━━━━━━━━━━━━━━━━━━━━━━━━━━ 6.4/24.8 MB 4.0 MB/s eta 0:00:05━━━━━━━━━━╺━━━━━━━━━━━━━━━━━━━━━━━━━━━━━ 6.5/24.8 MB 4.0 MB/s eta 0:00:05━━━━━━━━━━╺━━━━━━━━━━━━━━━━━━━━━━━━━━━━━ 6.5/24.8 MB 3.9 MB/s eta 0:00:05━━━━━━━━━━╸━━━━━━━━━━━━━━━━━━━━━━━━━━━━━ 6.7/24.8 MB 3.9 MB/s eta 0:00:05━━━━━━━━━━╸━━━━━━━━━━━━━━━━━━━━━━━━━━━━━ 6.8/24.8 MB 3.9 MB/s eta 0:00:05━━━━━━━━━━━╺━━━━━━━━━━━━━━━━━━━━━━━━━━━━ 6.9/24.8 MB 3.9 MB/s eta 0:00:05━━━━━━━━━━━╺━━━━━━━━━━━━━━━━━━━━━━━━━━━━ 7.0/24.8 MB 3.8 MB/s eta 0:00:05━━━━━━━━━━━╺━━━━━━━━━━━━━━━━━━━━━━━━━━━━ 7.1/24.8 MB 3.8 MB/s eta 0:00:05━━━━━━━━━━━╸━━━━━━━━━━━━━━━━━━━━━━━━━━━━ 7.2/24.8 MB 3.8 MB/s eta 0:00:05━━━━━━━━━━━╸━━━━━━━━━━━━━━━━━━━━━━━━━━━━ 7.3/24.8 MB 3.8 MB/s eta 0:00:05━━━━━━━━━━━╸━━━━━━━━━━━━━━━━━━━━━━━━━━━━ 7.4/24.8 MB 3.8 MB/s eta 0:00:05━━━━━━━━━━━━╺━━━━━━━━━━━━━━━━━━━━━━━━━━━ 7.5/24.8 MB 3.8 MB/s eta 0:00:05━━━━━━━━━━━━╺━━━━━━━━━━━━━━━━━━━━━━━━━━━ 7.6/24.8 MB 3.7 MB/s eta 0:00:05━━━━━━━━━━━━╺━━━━━━━━━━━━━━━━━━━━━━━━━━━ 7.7/24.8 MB 3.7 MB/s eta 0:00:05━━━━━━━━━━━━╸━━━━━━━━━━━━━━━━━━━━━━━━━━━ 7.8/24.8 MB 3.7 MB/s eta 0:00:05━━━━━━━━━━━━╸━━━━━━━━━━━━━━━━━━━━━━━━━━━ 7.9/24.8 MB 3.7 MB/s eta 0:00:05━━━━━━━━━━━━╸━━━━━━━━━━━━━━━━━━━━━━━━━━━ 8.1/24.8 MB 3.7 MB/s eta 0:00:05━━━━━━━━━━━━━╺━━━━━━━━━━━━━━━━━━━━━━━━━━ 8.2/24.8 MB 3.7 MB/s eta 0:00:05━━━━━━━━━━━━━╺━━━━━━━━━━━━━━━━━━━━━━━━━━ 8.3/24.8 MB 3.7 MB/s eta 0:00:05━━━━━━━━━━━━━╸━━━━━━━━━━━━━━━━━━━━━━━━━━ 8.4/24.8 MB 3.7 MB/s eta 0:00:05━━━━━━━━━━━━━╸━━━━━━━━━━━━━━━━━━━━━━━━━━ 8.5/24.8 MB 3.7 MB/s eta 0:00:05━━━━━━━━━━━━━╸━━━━━━━━━━━━━━━━━━━━━━━━━━ 8.6/24.8 MB 3.7 MB/s eta 0:00:05━━━━━━━━━━━━━━╺━━━━━━━━━━━━━━━━━━━━━━━━━ 8.7/24.8 MB 3.6 MB/s eta 0:00:05━━━━━━━━━━━━━━╺━━━━━━━━━━━━━━━━━━━━━━━━━ 8.8/24.8 MB 3.6 MB/s eta 0:00:05━━━━━━━━━━━━━━╺━━━━━━━━━━━━━━━━━━━━━━━━━ 8.9/24.8 MB 3.6 MB/s eta 0:00:05━━━━━━━━━━━━━━╸━━━━━━━━━━━━━━━━━━━━━━━━━ 9.1/24.8 MB 3.6 MB/s eta 0:00:05━━━━━━━━━━━━━━╸━━━━━━━━━━━━━━━━━━━━━━━━━ 9.2/24.8 MB 3.6 MB/s eta 0:00:05━━━━━━━━━━━━━━╸━━━━━━━━━━━━━━━━━━━━━━━━━ 9.3/24.8 MB 3.6 MB/s eta 0:00:05━━━━━━━━━━━━━━━╺━━━━━━━━━━━━━━━━━━━━━━━━ 9.4/24.8 MB 3.6 MB/s eta 0:00:05━━━━━━━━━━━━━━━╺━━━━━━━━━━━━━━━━━━━━━━━━ 9.5/24.8 MB 3.6 MB/s eta 0:00:05━━━━━━━━━━━━━━━╸━━━━━━━━━━━━━━━━━━━━━━━━ 9.6/24.8 MB 3.6 MB/s eta 0:00:05━━━━━━━━━━━━━━━╸━━━━━━━━━━━━━━━━━━━━━━━━ 9.8/24.8 MB 3.6 MB/s eta 0:00:05━━━━━━━━━━━━━━━╸━━━━━━━━━━━━━━━━━━━━━━━━ 9.9/24.8 MB 3.6 MB/s eta 0:00:05━━━━━━━━━━━━━━━━╺━━━━━━━━━━━━━━━━━━━━━━━ 10.0/24.8 MB 3.6 MB/s eta 0:00:05━━━━━━━━━━━━━━━━╺━━━━━━━━━━━━━━━━━━━━━━━ 10.1/24.8 MB 3.6 MB/s eta 0:00:05━━━━━━━━━━━━━━━━╺━━━━━━━━━━━━━━━━━━━━━━━ 10.2/24.8 MB 3.6 MB/s eta 0:00:05━━━━━━━━━━━━━━━━╸━━━━━━━━━━━━━━━━━━━━━━━ 10.3/24.8 MB 3.5 MB/s eta 0:00:05━━━━━━━━━━━━━━━━╸━━━━━━━━━━━━━━━━━━━━━━━ 10.4/24.8 MB 3.5 MB/s eta 0:00:05━━━━━━━━━━━━━━━━╸━━━━━━━━━━━━━━━━━━━━━━━ 10.5/24.8 MB 3.5 MB/s eta 0:00:05━━━━━━━━━━━━━━━━━╺━━━━━━━━━━━━━━━━━━━━━━ 10.7/24.8 MB 3.5 MB/s eta 0:00:05━━━━━━━━━━━━━━━━━╺━━━━━━━━━━━━━━━━━━━━━━ 10.8/24.8 MB 3.5 MB/s eta 0:00:05━━━━━━━━━━━━━━━━━╸━━━━━━━━━━━━━━━━━━━━━━ 11.0/24.8 MB 3.5 MB/s eta 0:00:05━━━━━━━━━━━━━━━━━╸━━━━━━━━━━━━━━━━━━━━━━ 11.1/24.8 MB 3.5 MB/s eta 0:00:04━━━━━━━━━━━━━━━━━━╺━━━━━━━━━━━━━━━━━━━━━ 11.2/24.8 MB 3.5 MB/s eta 0:00:04━━━━━━━━━━━━━━━━━━╺━━━━━━━━━━━━━━━━━━━━━ 11.3/24.8 MB 3.4 MB/s eta 0:00:04━━━━━━━━━━━━━━━━━━╺━━━━━━━━━━━━━━━━━━━━━ 11.4/24.8 MB 3.4 MB/s eta 0:00:04━━━━━━━━━━━━━━━━━━╸━━━━━━━━━━━━━━━━━━━━━ 11.5/24.8 MB 3.4 MB/s eta 0:00:04━━━━━━━━━━━━━━━━━━╸━━━━━━━━━━━━━━━━━━━━━ 11.7/24.8 MB 3.4 MB/s eta 0:00:04━━━━━━━━━━━━━━━━━━╸━━━━━━━━━━━━━━━━━━━━━ 11.8/24.8 MB 3.4 MB/s eta 0:00:04━━━━━━━━━━━━━━━━━━━╺━━━━━━━━━━━━━━━━━━━━ 11.9/24.8 MB 3.3 MB/s eta 0:00:04━━━━━━━━━━━━━━━━━━━╺━━━━━━━━━━━━━━━━━━━━ 12.0/24.8 MB 3.3 MB/s eta 0:00:04━━━━━━━━━━━━━━━━━━━╸━━━━━━━━━━━━━━━━━━━━ 12.1/24.8 MB 3.3 MB/s eta 0:00:04━━━━━━━━━━━━━━━━━━━╸━━━━━━━━━━━━━━━━━━━━ 12.2/24.8 MB 3.3 MB/s eta 0:00:04━━━━━━━━━━━━━━━━━━━╸━━━━━━━━━━━━━━━━━━━━ 12.3/24.8 MB 3.3 MB/s eta 0:00:04━━━━━━━━━━━━━━━━━━━╸━━━━━━━━━━━━━━━━━━━━ 12.4/24.8 MB 3.3 MB/s eta 0:00:04━━━━━━━━━━━━━━━━━━━━╺━━━━━━━━━━━━━━━━━━━ 12.5/24.8 MB 3.2 MB/s eta 0:00:04━━━━━━━━━━━━━━━━━━━━╺━━━━━━━━━━━━━━━━━━━ 12.6/24.8 MB 3.2 MB/s eta 0:00:04━━━━━━━━━━━━━━━━━━━━╺━━━━━━━━━━━━━━━━━━━ 12.7/24.8 MB 3.2 MB/s eta 0:00:04━━━━━━━━━━━━━━━━━━━━╸━━━━━━━━━━━━━━━━━━━ 12.8/24.8 MB 3.2 MB/s eta 0:00:04━━━━━━━━━━━━━━━━━━━━╸━━━━━━━━━━━━━━━━━━━ 13.0/24.8 MB 3.2 MB/s eta 0:00:04━━━━━━━━━━━━━━━━━━━━━╺━━━━━━━━━━━━━━━━━━ 13.1/24.8 MB 3.2 MB/s eta 0:00:04━━━━━━━━━━━━━━━━━━━━━╺━━━━━━━━━━━━━━━━━━ 13.2/24.8 MB 3.2 MB/s eta 0:00:04━━━━━━━━━━━━━━━━━━━━━╺━━━━━━━━━━━━━━━━━━ 13.3/24.8 MB 3.2 MB/s eta 0:00:04━━━━━━━━━━━━━━━━━━━━━╺━━━━━━━━━━━━━━━━━━ 13.3/24.8 MB 3.1 MB/s eta 0:00:04━━━━━━━━━━━━━━━━━━━━━╸━━━━━━━━━━━━━━━━━━ 13.5/24.8 MB 3.1 MB/s eta 0:00:04━━━━━━━━━━━━━━━━━━━━━╸━━━━━━━━━━━━━━━━━━ 13.6/24.8 MB 3.1 MB/s eta 0:00:04━━━━━━━━━━━━━━━━━━━━━╸━━━━━━━━━━━━━━━━━━ 13.7/24.8 MB 3.1 MB/s eta 0:00:04━━━━━━━━━━━━━━━━━━━━━━╺━━━━━━━━━━━━━━━━━ 13.8/24.8 MB 3.1 MB/s eta 0:00:04━━━━━━━━━━━━━━━━━━━━━━╺━━━━━━━━━━━━━━━━━ 13.9/24.8 MB 3.1 MB/s eta 0:00:04━━━━━━━━━━━━━━━━━━━━━━╸━━━━━━━━━━━━━━━━━ 14.0/24.8 MB 3.1 MB/s eta 0:00:04━━━━━━━━━━━━━━━━━━━━━━╸━━━━━━━━━━━━━━━━━ 14.2/24.8 MB 3.1 MB/s eta 0:00:04━━━━━━━━━━━━━━━━━━━━━━━╺━━━━━━━━━━━━━━━━ 14.3/24.8 MB 3.1 MB/s eta 0:00:04━━━━━━━━━━━━━━━━━━━━━━━╺━━━━━━━━━━━━━━━━ 14.4/24.8 MB 3.1 MB/s eta 0:00:04━━━━━━━━━━━━━━━━━━━━━━━╺━━━━━━━━━━━━━━━━ 14.5/24.8 MB 3.1 MB/s eta 0:00:04━━━━━━━━━━━━━━━━━━━━━━━╸━━━━━━━━━━━━━━━━ 14.7/24.8 MB 3.1 MB/s eta 0:00:04━━━━━━━━━━━━━━━━━━━━━━━╸━━━━━━━━━━━━━━━━ 14.8/24.8 MB 3.1 MB/s eta 0:00:04━━━━━━━━━━━━━━━━━━━━━━━╸━━━━━━━━━━━━━━━━ 14.9/24.8 MB 3.1 MB/s eta 0:00:04━━━━━━━━━━━━━━━━━━━━━━━━╺━━━━━━━━━━━━━━━ 15.0/24.8 MB 3.1 MB/s eta 0:00:04━━━━━━━━━━━━━━━━━━━━━━━━╺━━━━━━━━━━━━━━━ 15.1/24.8 MB 3.1 MB/s eta 0:00:04━━━━━━━━━━━━━━━━━━━━━━━━╸━━━━━━━━━━━━━━━ 15.2/24.8 MB 3.1 MB/s eta 0:00:04━━━━━━━━━━━━━━━━━━━━━━━━╸━━━━━━━━━━━━━━━ 15.4/24.8 MB 3.1 MB/s eta 0:00:04━━━━━━━━━━━━━━━━━━━━━━━━╸━━━━━━━━━━━━━━━ 15.5/24.8 MB 3.1 MB/s eta 0:00:04━━━━━━━━━━━━━━━━━━━━━━━━━╺━━━━━━━━━━━━━━ 15.6/24.8 MB 3.1 MB/s eta 0:00:03━━━━━━━━━━━━━━━━━━━━━━━━━╺━━━━━━━━━━━━━━ 15.7/24.8 MB 3.1 MB/s eta 0:00:03━━━━━━━━━━━━━━━━━━━━━━━━━╺━━━━━━━━━━━━━━ 15.7/24.8 MB 3.1 MB/s eta 0:00:03━━━━━━━━━━━━━━━━━━━━━━━━━╺━━━━━━━━━━━━━━ 15.8/24.8 MB 3.1 MB/s eta 0:00:03━━━━━━━━━━━━━━━━━━━━━━━━━╸━━━━━━━━━━━━━━ 16.0/24.8 MB 3.1 MB/s eta 0:00:03━━━━━━━━━━━━━━━━━━━━━━━━━╸━━━━━━━━━━━━━━ 16.0/24.8 MB 3.1 MB/s eta 0:00:03━━━━━━━━━━━━━━━━━━━━━━━━━╸━━━━━━━━━━━━━━ 16.1/24.8 MB 3.1 MB/s eta 0:00:03━━━━━━━━━━━━━━━━━━━━━━━━━━╺━━━━━━━━━━━━━ 16.3/24.8 MB 3.1 MB/s eta 0:00:03━━━━━━━━━━━━━━━━━━━━━━━━━━╺━━━━━━━━━━━━━ 16.4/24.8 MB 3.1 MB/s eta 0:00:03━━━━━━━━━━━━━━━━━━━━━━━━━━╸━━━━━━━━━━━━━ 16.6/24.8 MB 3.1 MB/s eta 0:00:03━━━━━━━━━━━━━━━━━━━━━━━━━━╸━━━━━━━━━━━━━ 16.7/24.8 MB 3.1 MB/s eta 0:00:03━━━━━━━━━━━━━━━━━━━━━━━━━━━╺━━━━━━━━━━━━ 16.9/24.8 MB 3.2 MB/s eta 0:00:03━━━━━━━━━━━━━━━━━━━━━━━━━━━╸━━━━━━━━━━━━ 17.1/24.8 MB 3.2 MB/s eta 0:00:03━━━━━━━━━━━━━━━━━━━━━━━━━━━╸━━━━━━━━━━━━ 17.2/24.8 MB 3.2 MB/s eta 0:00:03━━━━━━━━━━━━━━━━━━━━━━━━━━━╸━━━━━━━━━━━━ 17.3/24.8 MB 3.2 MB/s eta 0:00:03━━━━━━━━━━━━━━━━━━━━━━━━━━━━╺━━━━━━━━━━━ 17.4/24.8 MB 3.2 MB/s eta 0:00:03━━━━━━━━━━━━━━━━━━━━━━━━━━━━╺━━━━━━━━━━━ 17.6/24.8 MB 3.2 MB/s eta 0:00:03━━━━━━━━━━━━━━━━━━━━━━━━━━━━╸━━━━━━━━━━━ 17.8/24.8 MB 3.2 MB/s eta 0:00:03━━━━━━━━━━━━━━━━━━━━━━━━━━━━╸━━━━━━━━━━━ 17.9/24.8 MB 3.3 MB/s eta 0:00:03━━━━━━━━━━━━━━━━━━━━━━━━━━━━━╺━━━━━━━━━━ 18.0/24.8 MB 3.3 MB/s eta 0:00:03━━━━━━━━━━━━━━━━━━━━━━━━━━━━━╺━━━━━━━━━━ 18.2/24.8 MB 3.3 MB/s eta 0:00:03━━━━━━━━━━━━━━━━━━━━━━━━━━━━━╸━━━━━━━━━━ 18.3/24.8 MB 3.3 MB/s eta 0:00:02━━━━━━━━━━━━━━━━━━━━━━━━━━━━━╸━━━━━━━━━━ 18.5/24.8 MB 3.3 MB/s eta 0:00:02━━━━━━━━━━━━━━━━━━━━━━━━━━━━━━╺━━━━━━━━━ 18.7/24.8 MB 3.3 MB/s eta 0:00:02━━━━━━━━━━━━━━━━━━━━━━━━━━━━━━╸━━━━━━━━━ 19.0/24.8 MB 3.4 MB/s eta 0:00:02━━━━━━━━━━━━━━━━━━━━━━━━━━━━━━╸━━━━━━━━━ 19.2/24.8 MB 3.5 MB/s eta 0:00:02━━━━━━━━━━━━━━━━━━━━━━━━━━━━━━━╺━━━━━━━━ 19.5/24.8 MB 3.5 MB/s eta 0:00:02━━━━━━━━━━━━━━━━━━━━━━━━━━━━━━━╸━━━━━━━━ 19.7/24.8 MB 3.5 MB/s eta 0:00:02━━━━━━━━━━━━━━━━━━━━━━━━━━━━━━━━╺━━━━━━━ 19.9/24.8 MB 3.6 MB/s eta 0:00:02━━━━━━━━━━━━━━━━━━━━━━━━━━━━━━━━╺━━━━━━━ 20.1/24.8 MB 3.6 MB/s eta 0:00:02━━━━━━━━━━━━━━━━━━━━━━━━━━━━━━━━╸━━━━━━━ 20.3/24.8 MB 3.6 MB/s eta 0:00:02━━━━━━━━━━━━━━━━━━━━━━━━━━━━━━━━━╺━━━━━━ 20.6/24.8 MB 3.7 MB/s eta 0:00:02━━━━━━━━━━━━━━━━━━━━━━━━━━━━━━━━━╺━━━━━━ 20.7/24.8 MB 3.7 MB/s eta 0:00:02━━━━━━━━━━━━━━━━━━━━━━━━━━━━━━━━━╸━━━━━━ 21.0/24.8 MB 3.8 MB/s eta 0:00:02━━━━━━━━━━━━━━━━━━━━━━━━━━━━━━━━━━╺━━━━━ 21.2/24.8 MB 3.8 MB/s eta 0:00:01━━━━━━━━━━━━━━━━━━━━━━━━━━━━━━━━━━╺━━━━━ 21.3/24.8 MB 3.8 MB/s eta 0:00:01━━━━━━━━━━━━━━━━━━━━━━━━━━━━━━━━━━╸━━━━━ 21.5/24.8 MB 3.8 MB/s eta 0:00:01━━━━━━━━━━━━━━━━━━━━━━━━━━━━━━━━━━╸━━━━━ 21.6/24.8 MB 3.8 MB/s eta 0:00:01━━━━━━━━━━━━━━━━━━━━━━━━━━━━━━━━━━━╺━━━━ 21.7/24.8 MB 3.9 MB/s eta 0:00:01━━━━━━━━━━━━━━━━━━━━━━━━━━━━━━━━━━━╺━━━━ 21.9/24.8 MB 3.9 MB/s eta 0:00:01━━━━━━━━━━━━━━━━━━━━━━━━━━━━━━━━━━━╺━━━━ 22.0/24.8 MB 3.9 MB/s eta 0:00:01━━━━━━━━━━━━━━━━━━━━━━━━━━━━━━━━━━━╸━━━━ 22.1/24.8 MB 3.9 MB/s eta 0:00:01━━━━━━━━━━━━━━━━━━━━━━━━━━━━━━━━━━━╸━━━━ 22.2/24.8 MB 3.9 MB/s eta 0:00:01━━━━━━━━━━━━━━━━━━━━━━━━━━━━━━━━━━━╸━━━━ 22.4/24.8 MB 3.9 MB/s eta 0:00:01━━━━━━━━━━━━━━━━━━━━━━━━━━━━━━━━━━━━╺━━━ 22.5/24.8 MB 3.9 MB/s eta 0:00:01━━━━━━━━━━━━━━━━━━━━━━━━━━━━━━━━━━━━╺━━━ 22.6/24.8 MB 3.9 MB/s eta 0:00:01━━━━━━━━━━━━━━━━━━━━━━━━━━━━━━━━━━━━╸━━━ 22.8/24.8 MB 4.0 MB/s eta 0:00:01━━━━━━━━━━━━━━━━━━━━━━━━━━━━━━━━━━━━╸━━━ 22.9/24.8 MB 4.0 MB/s eta 0:00:01━━━━━━━━━━━━━━━━━━━━━━━━━━━━━━━━━━━━━╺━━ 23.1/24.8 MB 4.0 MB/s eta 0:00:01━━━━━━━━━━━━━━━━━━━━━━━━━━━━━━━━━━━━━╺━━ 23.2/24.8 MB 4.0 MB/s eta 0:00:01━━━━━━━━━━━━━━━━━━━━━━━━━━━━━━━━━━━━━╸━━ 23.3/24.8 MB 4.0 MB/s eta 0:00:01━━━━━━━━━━━━━━━━━━━━━━━━━━━━━━━━━━━━━╸━━ 23.3/24.8 MB 4.0 MB/s eta 0:00:01━━━━━━━━━━━━━━━━━━━━━━━━━━━━━━━━━━━━━╸━━ 23.5/24.8 MB 4.0 MB/s eta 0:00:01━━━━━━━━━━━━━━━━━━━━━━━━━━━━━━━━━━━━━━╺━ 23.6/24.8 MB 4.0 MB/s eta 0:00:01━━━━━━━━━━━━━━━━━━━━━━━━━━━━━━━━━━━━━━╺━ 23.7/24.8 MB 4.0 MB/s eta 0:00:01━━━━━━━━━━━━━━━━━━━━━━━━━━━━━━━━━━━━━━╺━ 23.9/24.8 MB 4.0 MB/s eta 0:00:01━━━━━━━━━━━━━━━━━━━━━━━━━━━━━━━━━━━━━━╸━ 24.0/24.8 MB 4.0 MB/s eta 0:00:01━━━━━━━━━━━━━━━━━━━━━━━━━━━━━━━━━━━━━━╸━ 24.0/24.8 MB 4.0 MB/s eta 0:00:01━━━━━━━━━━━━━━━━━━━━━━━━━━━━━━━━━━━━━━╸━ 24.2/24.8 MB 4.0 MB/s eta 0:00:01━━━━━━━━━━━━━━━━━━━━━━━━━━━━━━━━━━━━━━━╺ 24.3/24.8 MB 4.0 MB/s eta 0:00:01━━━━━━━━━━━━━━━━━━━━━━━━━━━━━━━━━━━━━━━╺ 24.4/24.8 MB 4.0 MB/s eta 0:00:01━━━━━━━━━━━━━━━━━━━━━━━━━━━━━━━━━━━━━━━╺ 24.5/24.8 MB 4.0 MB/s eta 0:00:01━━━━━━━━━━━━━━━━━━━━━━━━━━━━━━━━━━━━━━━╸ 24.6/24.8 MB 3.9 MB/s eta 0:00:01━━━━━━━━━━━━━━━━━━━━━━━━━━━━━━━━━━━━━━━╸ 24.7/24.8 MB 3.9 MB/s eta 0:00:01━━━━━━━━━━━━━━━━━━━━━━━━━━━━━━━━━━━━━━━╸ 24.8/24.8 MB 3.9 MB/s eta 0:00:01━━━━━━━━━━━━━━━━━━━━━━━━━━━━━━━━━━━━━━━╸ 24.8/24.8 MB 3.9 MB/s eta 0:00:01━━━━━━━━━━━━━━━━━━━━━━━━━━━━━━━━━━━━━━━╸ 24.8/24.8 MB 3.9 MB/s eta 0:00:01━━━━━━━━━━━━━━━━━━━━━━━━━━━━━━━━━━━━━━━╸ 24.8/24.8 MB 3.9 MB/s eta 0:00:01━━━━━━━━━━━━━━━━━━━━━━━━━━━━━━━━━━━━━━━╸ 24.8/24.8 MB 3.9 MB/s eta 0:00:01━━━━━━━━━━━━━━━━━━━━━━━━━━━━━━━━━━━━━━━╸ 24.8/24.8 MB 3.9 MB/s eta 0:00:01━━━━━━━━━━━━━━━━━━━━━━━━━━━━━━━━━━━━━━━╸ 24.8/24.8 MB 3.9 MB/s eta 0:00:01━━━━━━━━━━━━━━━━━━━━━━━━━━━━━━━━━━━━━━━━ 24.8/24.8 MB 3.5 MB/s eta 0:00:00\n",
      "\u001b[?25hRequirement already satisfied: joblib>=0.11 in /opt/conda/envs/python35-paddle120-env/lib/python3.7/site-packages (from imbalanced-learn->imblearn) (0.14.1)\n",
      "Installing collected packages: scikit-learn, imbalanced-learn, imblearn\n",
      "  Attempting uninstall: scikit-learn\n",
      "    Found existing installation: scikit-learn 0.24.2\n",
      "    Uninstalling scikit-learn-0.24.2:\n",
      "      Successfully uninstalled scikit-learn-0.24.2\n",
      "Successfully installed imbalanced-learn-0.9.0 imblearn-0.0 scikit-learn-1.0.2\n",
      "WARNING: You are using pip version 22.0.4; however, version 22.1.2 is available.\n",
      "You should consider upgrading via the '/opt/conda/envs/python35-paddle120-env/bin/python -m pip install --upgrade pip' command.\n",
      "Note: you may need to restart the kernel to use updated packages.\n"
     ]
    }
   ],
   "source": [
    "pip install imblearn"
   ]
  },
  {
   "cell_type": "code",
   "execution_count": 1,
   "metadata": {
    "collapsed": false
   },
   "outputs": [
    {
     "name": "stderr",
     "output_type": "stream",
     "text": [
      "[2022-06-09 21:43:58,832] [    INFO] - Already cached /home/aistudio/.paddlenlp/models/ernie-m-base/ernie_m.vocab.txt\n",
      "[2022-06-09 21:43:58,835] [    INFO] - Already cached /home/aistudio/.paddlenlp/models/ernie-m-base/ernie_m.sentencepiece.bpe.model\n"
     ]
    }
   ],
   "source": [
    "import pandas as pd\r\n",
    "import paddlenlp\r\n",
    "from paddlenlp.datasets import MapDataset\r\n",
    "from paddlenlp.transformers import ErnieMTokenizer\r\n",
    "token = ErnieMTokenizer.from_pretrained('ernie-m-base')"
   ]
  },
  {
   "cell_type": "code",
   "execution_count": 2,
   "metadata": {
    "collapsed": false
   },
   "outputs": [],
   "source": [
    "dftest = pd.read_csv(\"/home/aistudio/data/data150331/validation.csv\")\r\n",
    "dftrain = pd.read_csv(\"/home/aistudio/data/data150331/jigsaw-toxic-comment-train.csv\")"
   ]
  },
  {
   "cell_type": "code",
   "execution_count": null,
   "metadata": {
    "collapsed": false
   },
   "outputs": [
    {
     "data": {
      "text/html": [
       "<div>\n",
       "<style scoped>\n",
       "    .dataframe tbody tr th:only-of-type {\n",
       "        vertical-align: middle;\n",
       "    }\n",
       "\n",
       "    .dataframe tbody tr th {\n",
       "        vertical-align: top;\n",
       "    }\n",
       "\n",
       "    .dataframe thead th {\n",
       "        text-align: right;\n",
       "    }\n",
       "</style>\n",
       "<table border=\"1\" class=\"dataframe\">\n",
       "  <thead>\n",
       "    <tr style=\"text-align: right;\">\n",
       "      <th></th>\n",
       "      <th>id</th>\n",
       "      <th>comment_text</th>\n",
       "      <th>toxic</th>\n",
       "      <th>severe_toxic</th>\n",
       "      <th>obscene</th>\n",
       "      <th>threat</th>\n",
       "      <th>insult</th>\n",
       "      <th>identity_hate</th>\n",
       "      <th>verctor</th>\n",
       "    </tr>\n",
       "  </thead>\n",
       "  <tbody>\n",
       "    <tr>\n",
       "      <th>0</th>\n",
       "      <td>0000997932d777bf</td>\n",
       "      <td>Explanation\\nWhy the edits made under my usern...</td>\n",
       "      <td>0</td>\n",
       "      <td>0</td>\n",
       "      <td>0</td>\n",
       "      <td>0</td>\n",
       "      <td>0</td>\n",
       "      <td>0</td>\n",
       "      <td>[0, 5443, 5868, 2320, 44084, 70, 27211, 7, 722...</td>\n",
       "    </tr>\n",
       "    <tr>\n",
       "      <th>1</th>\n",
       "      <td>000103f0d9cfb60f</td>\n",
       "      <td>D'aww! He matches this background colour I'm s...</td>\n",
       "      <td>0</td>\n",
       "      <td>0</td>\n",
       "      <td>0</td>\n",
       "      <td>0</td>\n",
       "      <td>0</td>\n",
       "      <td>0</td>\n",
       "      <td>[0, 391, 25, 11, 98251, 38, 1529, 14858, 90, 9...</td>\n",
       "    </tr>\n",
       "    <tr>\n",
       "      <th>2</th>\n",
       "      <td>000113f07ec002fd</td>\n",
       "      <td>Hey man, I'm really not trying to edit war. It...</td>\n",
       "      <td>0</td>\n",
       "      <td>0</td>\n",
       "      <td>0</td>\n",
       "      <td>0</td>\n",
       "      <td>0</td>\n",
       "      <td>0</td>\n",
       "      <td>[0, 28240, 332, 4, 87, 25, 39, 6183, 959, 3157...</td>\n",
       "    </tr>\n",
       "    <tr>\n",
       "      <th>3</th>\n",
       "      <td>0001b41b1c6bb37e</td>\n",
       "      <td>\"\\nMore\\nI can't make any real suggestions on ...</td>\n",
       "      <td>0</td>\n",
       "      <td>0</td>\n",
       "      <td>0</td>\n",
       "      <td>0</td>\n",
       "      <td>0</td>\n",
       "      <td>0</td>\n",
       "      <td>[0, 44, 5455, 87, 831, 25, 18, 3249, 2499, 277...</td>\n",
       "    </tr>\n",
       "    <tr>\n",
       "      <th>4</th>\n",
       "      <td>0001d958c54c6e35</td>\n",
       "      <td>You, sir, are my hero. Any chance you remember...</td>\n",
       "      <td>0</td>\n",
       "      <td>0</td>\n",
       "      <td>0</td>\n",
       "      <td>0</td>\n",
       "      <td>0</td>\n",
       "      <td>0</td>\n",
       "      <td>[0, 2583, 4, 14095, 4, 621, 759, 40814, 5, 285...</td>\n",
       "    </tr>\n",
       "    <tr>\n",
       "      <th>...</th>\n",
       "      <td>...</td>\n",
       "      <td>...</td>\n",
       "      <td>...</td>\n",
       "      <td>...</td>\n",
       "      <td>...</td>\n",
       "      <td>...</td>\n",
       "      <td>...</td>\n",
       "      <td>...</td>\n",
       "      <td>...</td>\n",
       "    </tr>\n",
       "    <tr>\n",
       "      <th>223544</th>\n",
       "      <td>fff8f64043129fa2</td>\n",
       "      <td>:Jerome, I see you never got around to this…! ...</td>\n",
       "      <td>0</td>\n",
       "      <td>0</td>\n",
       "      <td>0</td>\n",
       "      <td>0</td>\n",
       "      <td>0</td>\n",
       "      <td>0</td>\n",
       "      <td>[0, 152, 1375, 56, 13450, 4, 87, 1957, 398, 83...</td>\n",
       "    </tr>\n",
       "    <tr>\n",
       "      <th>223545</th>\n",
       "      <td>fff9d70fe0722906</td>\n",
       "      <td>==Lucky bastard== \\n http://wikimediafoundatio...</td>\n",
       "      <td>0</td>\n",
       "      <td>0</td>\n",
       "      <td>0</td>\n",
       "      <td>0</td>\n",
       "      <td>0</td>\n",
       "      <td>0</td>\n",
       "      <td>[0, 6, 69112, 116742, 1002, 26462, 4216, 69112...</td>\n",
       "    </tr>\n",
       "    <tr>\n",
       "      <th>223546</th>\n",
       "      <td>fffa8a11c4378854</td>\n",
       "      <td>==shame on you all!!!== \\n\\n You want to speak...</td>\n",
       "      <td>0</td>\n",
       "      <td>0</td>\n",
       "      <td>0</td>\n",
       "      <td>0</td>\n",
       "      <td>0</td>\n",
       "      <td>0</td>\n",
       "      <td>[0, 6, 69112, 2420, 282, 98, 398, 756, 1564, 6...</td>\n",
       "    </tr>\n",
       "    <tr>\n",
       "      <th>223547</th>\n",
       "      <td>fffac2a094c8e0e2</td>\n",
       "      <td>MEL GIBSON IS A NAZI BITCH WHO MAKES SHITTY MO...</td>\n",
       "      <td>1</td>\n",
       "      <td>0</td>\n",
       "      <td>1</td>\n",
       "      <td>0</td>\n",
       "      <td>1</td>\n",
       "      <td>0</td>\n",
       "      <td>[0, 105030, 527, 29877, 58627, 15744, 62, 541,...</td>\n",
       "    </tr>\n",
       "    <tr>\n",
       "      <th>223548</th>\n",
       "      <td>fffb5451268fb5ba</td>\n",
       "      <td>\" \\n\\n == Unicorn lair discovery == \\n\\n Suppo...</td>\n",
       "      <td>0</td>\n",
       "      <td>0</td>\n",
       "      <td>0</td>\n",
       "      <td>0</td>\n",
       "      <td>0</td>\n",
       "      <td>0</td>\n",
       "      <td>[0, 44, 6, 69112, 11789, 10517, 19, 21, 481, 1...</td>\n",
       "    </tr>\n",
       "  </tbody>\n",
       "</table>\n",
       "<p>223549 rows × 9 columns</p>\n",
       "</div>"
      ],
      "text/plain": [
       "                      id                                       comment_text  \\\n",
       "0       0000997932d777bf  Explanation\\nWhy the edits made under my usern...   \n",
       "1       000103f0d9cfb60f  D'aww! He matches this background colour I'm s...   \n",
       "2       000113f07ec002fd  Hey man, I'm really not trying to edit war. It...   \n",
       "3       0001b41b1c6bb37e  \"\\nMore\\nI can't make any real suggestions on ...   \n",
       "4       0001d958c54c6e35  You, sir, are my hero. Any chance you remember...   \n",
       "...                  ...                                                ...   \n",
       "223544  fff8f64043129fa2  :Jerome, I see you never got around to this…! ...   \n",
       "223545  fff9d70fe0722906  ==Lucky bastard== \\n http://wikimediafoundatio...   \n",
       "223546  fffa8a11c4378854  ==shame on you all!!!== \\n\\n You want to speak...   \n",
       "223547  fffac2a094c8e0e2  MEL GIBSON IS A NAZI BITCH WHO MAKES SHITTY MO...   \n",
       "223548  fffb5451268fb5ba  \" \\n\\n == Unicorn lair discovery == \\n\\n Suppo...   \n",
       "\n",
       "        toxic  severe_toxic  obscene  threat  insult  identity_hate  \\\n",
       "0           0             0        0       0       0              0   \n",
       "1           0             0        0       0       0              0   \n",
       "2           0             0        0       0       0              0   \n",
       "3           0             0        0       0       0              0   \n",
       "4           0             0        0       0       0              0   \n",
       "...       ...           ...      ...     ...     ...            ...   \n",
       "223544      0             0        0       0       0              0   \n",
       "223545      0             0        0       0       0              0   \n",
       "223546      0             0        0       0       0              0   \n",
       "223547      1             0        1       0       1              0   \n",
       "223548      0             0        0       0       0              0   \n",
       "\n",
       "                                                  verctor  \n",
       "0       [0, 5443, 5868, 2320, 44084, 70, 27211, 7, 722...  \n",
       "1       [0, 391, 25, 11, 98251, 38, 1529, 14858, 90, 9...  \n",
       "2       [0, 28240, 332, 4, 87, 25, 39, 6183, 959, 3157...  \n",
       "3       [0, 44, 5455, 87, 831, 25, 18, 3249, 2499, 277...  \n",
       "4       [0, 2583, 4, 14095, 4, 621, 759, 40814, 5, 285...  \n",
       "...                                                   ...  \n",
       "223544  [0, 152, 1375, 56, 13450, 4, 87, 1957, 398, 83...  \n",
       "223545  [0, 6, 69112, 116742, 1002, 26462, 4216, 69112...  \n",
       "223546  [0, 6, 69112, 2420, 282, 98, 398, 756, 1564, 6...  \n",
       "223547  [0, 105030, 527, 29877, 58627, 15744, 62, 541,...  \n",
       "223548  [0, 44, 6, 69112, 11789, 10517, 19, 21, 481, 1...  \n",
       "\n",
       "[223549 rows x 9 columns]"
      ]
     },
     "execution_count": null,
     "metadata": {},
     "output_type": "execute_result"
    }
   ],
   "source": [
    "dftrain['verctor'] = dftrain['comment_text'].apply(lambda x:token(x,max_seq_len = 128)['input_ids'])\r\n",
    "dftrain"
   ]
  },
  {
   "cell_type": "code",
   "execution_count": null,
   "metadata": {
    "collapsed": false
   },
   "outputs": [
    {
     "data": {
      "text/plain": [
       "Counter({0: 202165, 1: 202165})"
      ]
     },
     "execution_count": null,
     "metadata": {},
     "output_type": "execute_result"
    }
   ],
   "source": [
    "from imblearn.over_sampling import RandomOverSampler,SMOTE,ADASYN\r\n",
    "from collections import Counter\r\n",
    "ros = RandomOverSampler()\r\n",
    "smt = SMOTE()\r\n",
    "ada = ADASYN()\r\n",
    "\r\n",
    "x_train = dftrain[['comment_text','verctor']]\r\n",
    "y_train = dftrain['toxic']\r\n",
    "\r\n",
    "x_res1,y_res1 = ros.fit_resample(x_train,y_train)\r\n",
    "#x_res2,y_res2 = smt.fit_resample(x_train,y_train)\r\n",
    "#x_res3,y_res3 = ada.fit_resample(x_train,y_train)\r\n",
    "Counter(y_res1)\r\n"
   ]
  },
  {
   "cell_type": "code",
   "execution_count": null,
   "metadata": {
    "collapsed": false
   },
   "outputs": [
    {
     "data": {
      "text/html": [
       "<div>\n",
       "<style scoped>\n",
       "    .dataframe tbody tr th:only-of-type {\n",
       "        vertical-align: middle;\n",
       "    }\n",
       "\n",
       "    .dataframe tbody tr th {\n",
       "        vertical-align: top;\n",
       "    }\n",
       "\n",
       "    .dataframe thead th {\n",
       "        text-align: right;\n",
       "    }\n",
       "</style>\n",
       "<table border=\"1\" class=\"dataframe\">\n",
       "  <thead>\n",
       "    <tr style=\"text-align: right;\">\n",
       "      <th></th>\n",
       "      <th>comment_text</th>\n",
       "      <th>toxic</th>\n",
       "    </tr>\n",
       "  </thead>\n",
       "  <tbody>\n",
       "    <tr>\n",
       "      <th>0</th>\n",
       "      <td>Explanation\\nWhy the edits made under my usern...</td>\n",
       "      <td>0</td>\n",
       "    </tr>\n",
       "    <tr>\n",
       "      <th>1</th>\n",
       "      <td>D'aww! He matches this background colour I'm s...</td>\n",
       "      <td>0</td>\n",
       "    </tr>\n",
       "    <tr>\n",
       "      <th>2</th>\n",
       "      <td>Hey man, I'm really not trying to edit war. It...</td>\n",
       "      <td>0</td>\n",
       "    </tr>\n",
       "    <tr>\n",
       "      <th>3</th>\n",
       "      <td>\"\\nMore\\nI can't make any real suggestions on ...</td>\n",
       "      <td>0</td>\n",
       "    </tr>\n",
       "    <tr>\n",
       "      <th>4</th>\n",
       "      <td>You, sir, are my hero. Any chance you remember...</td>\n",
       "      <td>0</td>\n",
       "    </tr>\n",
       "    <tr>\n",
       "      <th>...</th>\n",
       "      <td>...</td>\n",
       "      <td>...</td>\n",
       "    </tr>\n",
       "    <tr>\n",
       "      <th>404325</th>\n",
       "      <td>Replies to Zebedee\\n\\nZebedee, I WAS NOT USING...</td>\n",
       "      <td>1</td>\n",
       "    </tr>\n",
       "    <tr>\n",
       "      <th>404326</th>\n",
       "      <td>, after I let him suck my boobs,</td>\n",
       "      <td>1</td>\n",
       "    </tr>\n",
       "    <tr>\n",
       "      <th>404327</th>\n",
       "      <td>Unlike you, I have improved the article in the...</td>\n",
       "      <td>1</td>\n",
       "    </tr>\n",
       "    <tr>\n",
       "      <th>404328</th>\n",
       "      <td>And if you write me now that Norwegians are Sl...</td>\n",
       "      <td>1</td>\n",
       "    </tr>\n",
       "    <tr>\n",
       "      <th>404329</th>\n",
       "      <td>Once this is over, can we make a bunch of empt...</td>\n",
       "      <td>1</td>\n",
       "    </tr>\n",
       "  </tbody>\n",
       "</table>\n",
       "<p>404330 rows × 2 columns</p>\n",
       "</div>"
      ],
      "text/plain": [
       "                                             comment_text  toxic\n",
       "0       Explanation\\nWhy the edits made under my usern...      0\n",
       "1       D'aww! He matches this background colour I'm s...      0\n",
       "2       Hey man, I'm really not trying to edit war. It...      0\n",
       "3       \"\\nMore\\nI can't make any real suggestions on ...      0\n",
       "4       You, sir, are my hero. Any chance you remember...      0\n",
       "...                                                   ...    ...\n",
       "404325  Replies to Zebedee\\n\\nZebedee, I WAS NOT USING...      1\n",
       "404326                   , after I let him suck my boobs,      1\n",
       "404327  Unlike you, I have improved the article in the...      1\n",
       "404328  And if you write me now that Norwegians are Sl...      1\n",
       "404329  Once this is over, can we make a bunch of empt...      1\n",
       "\n",
       "[404330 rows x 2 columns]"
      ]
     },
     "execution_count": null,
     "metadata": {},
     "output_type": "execute_result"
    }
   ],
   "source": [
    "df_rostrain = x_res1[['comment_text']]\r\n",
    "df_rostrain['toxic'] = y_res1\r\n",
    "df_rostrain\r\n"
   ]
  },
  {
   "cell_type": "code",
   "execution_count": null,
   "metadata": {
    "collapsed": false
   },
   "outputs": [],
   "source": [
    "df_rostrain.to_csv(\"/home/aistudio/data/df_rostrain.csv\")"
   ]
  },
  {
   "cell_type": "code",
   "execution_count": null,
   "metadata": {
    "collapsed": false
   },
   "outputs": [],
   "source": [
    "df_rostrain = pd.read_csv(\"/home/aistudio/data/df_rostrain.csv\")"
   ]
  },
  {
   "cell_type": "code",
   "execution_count": 4,
   "metadata": {
    "collapsed": false
   },
   "outputs": [],
   "source": [
    "def labeled(x):\r\n",
    "    result = token(x['comment_text'],max_seq_len = 128)\r\n",
    "    result['label'] = x['toxic']\r\n",
    "    return result\r\n",
    "def unlabeled(x):\r\n",
    "    result = token(x['comment_text'],max_seq_len = 128)\r\n",
    "    return result"
   ]
  },
  {
   "cell_type": "code",
   "execution_count": 5,
   "metadata": {
    "collapsed": false
   },
   "outputs": [],
   "source": [
    "def data_processing(examples,trans):\r\n",
    "    data = examples[['comment_text','toxic']]\r\n",
    "    result = data.apply(trans,axis = 1)\r\n",
    "    dataset = MapDataset(result)\r\n",
    "    return dataset"
   ]
  },
  {
   "cell_type": "code",
   "execution_count": 6,
   "metadata": {
    "collapsed": false
   },
   "outputs": [
    {
     "data": {
      "text/plain": [
       "404330"
      ]
     },
     "execution_count": 6,
     "metadata": {},
     "output_type": "execute_result"
    }
   ],
   "source": [
    "df_rostrain.shape[0]"
   ]
  },
  {
   "cell_type": "code",
   "execution_count": 7,
   "metadata": {
    "collapsed": false
   },
   "outputs": [],
   "source": [
    "train_ds = data_processing(df_rostrain,labeled)\r\n",
    "test_ds = data_processing(dftest,labeled)"
   ]
  },
  {
   "cell_type": "code",
   "execution_count": 8,
   "metadata": {
    "collapsed": false
   },
   "outputs": [],
   "source": [
    "from paddle.io import BatchSampler,DataLoader\r\n",
    "from paddlenlp.data import DataCollatorWithPadding\r\n",
    "da = DataCollatorWithPadding(token)\r\n",
    "train_slr = BatchSampler(train_ds,batch_size = 64,shuffle = True)\r\n",
    "test_slr = BatchSampler(test_ds,batch_size=32,shuffle=True)\r\n",
    "train = DataLoader(train_ds,batch_sampler=train_slr,collate_fn=da)\r\n",
    "test = DataLoader(test_ds,batch_sampler=test_slr,collate_fn=da)"
   ]
  },
  {
   "cell_type": "code",
   "execution_count": 13,
   "metadata": {
    "collapsed": false
   },
   "outputs": [
    {
     "name": "stderr",
     "output_type": "stream",
     "text": [
      "[2022-06-09 21:56:35,993] [    INFO] - Already cached /home/aistudio/.paddlenlp/models/ernie-m-base/ernie_m_base.pdparams\n",
      "W0609 21:56:35.997023 19762 gpu_context.cc:278] Please NOTE: device: 0, GPU Compute Capability: 7.0, Driver API Version: 11.2, Runtime API Version: 10.1\n",
      "W0609 21:56:36.008991 19762 gpu_context.cc:306] device: 0, cuDNN Version: 7.6.\n",
      "[2022-06-09 21:56:43,982] [    INFO] - Weights of ErnieMForSequenceClassification not initialized from pretrained model: ['classifier.weight', 'classifier.bias']\n"
     ]
    }
   ],
   "source": [
    "import time\r\n",
    "import paddle.nn.functional as F\r\n",
    "import paddle\r\n",
    "from paddle import to_tensor\r\n",
    "from paddlenlp.transformers import ErnieMForSequenceClassification\r\n",
    "import os\r\n",
    "\r\n",
    "\r\n",
    "\r\n",
    "model = ErnieMForSequenceClassification.from_pretrained('ernie-m-base')\r\n",
    "modeldir = \"/home/aistudio/models/ernie-m\"\r\n",
    "#model = ErnieMForSequenceClassification()\r\n",
    "model_para = paddle.load(\"/home/aistudio/models/ernie-m.pdparams\")\r\n",
    "model.set_state_dict(model_para)"
   ]
  },
  {
   "cell_type": "code",
   "execution_count": 14,
   "metadata": {
    "collapsed": false
   },
   "outputs": [],
   "source": [
    "#weight = [0.3,0.7]\r\n",
    "#weight = to_tensor(weight)\r\n",
    "#criterion = paddle.nn.CrossEntropyLoss(weight=weight)\r\n",
    "criterion = paddle.nn.CrossEntropyLoss()\r\n",
    "optimizer = paddle.optimizer.AdamW(parameters=model.parameters())\r\n",
    "metric = paddle.metric.Accuracy()\r\n",
    "metric2 = paddle.metric.Accuracy()"
   ]
  },
  {
   "cell_type": "code",
   "execution_count": 15,
   "metadata": {
    "collapsed": false
   },
   "outputs": [],
   "source": [
    "def train_model(train_data,test_data,model,epochs,model_dir,best_acc=0):\r\n",
    "    globalsteps = 0\r\n",
    "    \r\n",
    "    '''\r\n",
    "    start = time.time()\r\n",
    "    print('Tensorize test_data,please waiting:')\r\n",
    "    for _,val_batch in enumerate(test_data):\r\n",
    "        val_ip_ids = val_batch['input_ids']\r\n",
    "        val_pos_ids = val_batch['position_ids']\r\n",
    "        val_attn_mask = val_batch['attention_mask']\r\n",
    "        val_labels = val_batch['labels']\r\n",
    "    print(f'test data has been Tensorized! cost:{time.time()-start}s')\r\n",
    "    '''\r\n",
    "    start = time.time()\r\n",
    "    for epoch in range(1,epochs+1):\r\n",
    "        for step,batch in enumerate(train_data,start = 1):\r\n",
    "            input_ids,position_ids,attention_mask,label = batch['input_ids'],batch['position_ids'],batch['attention_mask'],batch['labels']\r\n",
    "\r\n",
    "            logits = model(input_ids,position_ids,attention_mask)\r\n",
    "            loss = criterion(logits,label)\r\n",
    "            probs = F.softmax(logits,axis=1)\r\n",
    "            pre_acc = metric.compute(probs,label)\r\n",
    "            metric.update(pre_acc)\r\n",
    "            \r\n",
    "            \r\n",
    "            \r\n",
    "            \r\n",
    "            globalsteps = globalsteps+1\r\n",
    "            if globalsteps %50 ==0:\r\n",
    "                acc = metric.accumulate()\r\n",
    "                metric.reset()\r\n",
    "                memory_used = paddle.device.cuda.memory_allocated('gpu:0')\r\n",
    "                print(\"globalstep %d, epoch %d, batch %d, loss %.3f, acc %.5f,timecost %.5f s, memory_used:%.2f  \"\r\n",
    "                      %(globalsteps,  epoch,    step,     loss,       acc  ,  time.time()-start,memory_used/(16*1024*1024*1024)))\r\n",
    "                start = time.time()\r\n",
    "            \r\n",
    "            \r\n",
    "            \r\n",
    "            loss.backward()\r\n",
    "            optimizer.step()\r\n",
    "            optimizer.clear_grad()\r\n",
    "\r\n",
    "            \r\n",
    "\r\n",
    "            if globalsteps % 1000 == 0:\r\n",
    "                for _,val_batch in enumerate(test_data):\r\n",
    "                    val_ip_ids = val_batch['input_ids']\r\n",
    "                    val_pos_ids = val_batch['position_ids']\r\n",
    "                    val_attn_mask = val_batch['attention_mask']\r\n",
    "                    val_labels = val_batch['labels']\r\n",
    "                    val_logits = model(val_ip_ids,val_pos_ids,val_attn_mask)\r\n",
    "                    val_probs = F.softmax(val_logits,axis=1)\r\n",
    "                    val_pre_acc = metric2.compute(val_probs,val_labels)\r\n",
    "                    metric2.update(val_pre_acc)\r\n",
    "                val_acc = metric2.accumulate()\r\n",
    "                metric2.reset()\r\n",
    "                print(f'val_acc: {val_acc}')\r\n",
    "                save_dir = model_dir\r\n",
    "                if not os.path.exists(save_dir):\r\n",
    "                    os.makedirs(save_dir)\r\n",
    "                print(globalsteps,end='')\r\n",
    "                if val_acc>best_acc:\r\n",
    "                    best_acc = val_acc\r\n",
    "                    model.save_pretrained(save_dir)\r\n",
    "            \r\n",
    "\r\n"
   ]
  },
  {
   "cell_type": "code",
   "execution_count": 17,
   "metadata": {
    "collapsed": false
   },
   "outputs": [],
   "source": [
    "modeldir = \"/home/aistudio/models/ernie-m\""
   ]
  },
  {
   "cell_type": "code",
   "execution_count": 16,
   "metadata": {
    "collapsed": false
   },
   "outputs": [],
   "source": [
    "train_model(train,test,model,20,modeldir)"
   ]
  },
  {
   "cell_type": "code",
   "execution_count": null,
   "metadata": {
    "collapsed": false
   },
   "outputs": [],
   "source": [
    "model_state = model.state_dict()\r\n",
    "paddle.save(model_state,\"/home/aistudio/models/ernie-m.pdparams\")"
   ]
  },
  {
   "cell_type": "code",
   "execution_count": null,
   "metadata": {
    "collapsed": false
   },
   "outputs": [],
   "source": [
    "def get_pred(tensor):\r\n",
    "    ans = []\r\n",
    "    for i in tensor:\r\n",
    "        if i[0]>0.6:\r\n",
    "            ans.append(0)\r\n",
    "        else:\r\n",
    "            ans.append(1)\r\n",
    "    \r\n",
    "    return to_tensor(ans)"
   ]
  },
  {
   "cell_type": "code",
   "execution_count": null,
   "metadata": {
    "collapsed": false
   },
   "outputs": [],
   "source": [
    "recall = paddle.metric.Recall()\r\n",
    "pre = paddle.metric.Precision()\r\n",
    "test_temp = DataLoader(test_ds,batch_sampler=test_slr,collate_fn=da)\r\n",
    "for _,val_batch in enumerate(test_temp):\r\n",
    "    val_ip_ids = val_batch['input_ids']\r\n",
    "    val_pos_ids = val_batch['position_ids']\r\n",
    "    val_attn_mask = val_batch['attention_mask']\r\n",
    "    val_labels = val_batch['labels']\r\n",
    "    val_logits = model(val_ip_ids,val_pos_ids,val_attn_mask)\r\n",
    "    val_probs = F.softmax(val_logits,axis=1)\r\n",
    "    val_pre_acc = metric2.compute(val_probs,val_labels)\r\n",
    "    \r\n",
    "    \r\n",
    "    metric2.update(val_pre_acc)\r\n",
    "    pre.update(get_pred(val_probs),val_labels)\r\n",
    "    recall.update(get_pred(val_probs),val_labels)\r\n",
    "\r\n",
    "  \r\n",
    "acc = metric2.accumulate()\r\n",
    "rec = recall.accumulate()\r\n",
    "precision = pre.accumulate()"
   ]
  },
  {
   "cell_type": "code",
   "execution_count": null,
   "metadata": {
    "collapsed": false
   },
   "outputs": [
    {
     "data": {
      "text/plain": [
       "0.6593708388814914"
      ]
     },
     "execution_count": null,
     "metadata": {},
     "output_type": "execute_result"
    }
   ],
   "source": [
    "acc"
   ]
  },
  {
   "cell_type": "code",
   "execution_count": null,
   "metadata": {
    "collapsed": false
   },
   "outputs": [
    {
     "data": {
      "text/plain": [
       "0.15375"
      ]
     },
     "execution_count": null,
     "metadata": {},
     "output_type": "execute_result"
    }
   ],
   "source": [
    "precision"
   ]
  },
  {
   "cell_type": "code",
   "execution_count": null,
   "metadata": {
    "collapsed": false
   },
   "outputs": [],
   "source": [
    "get_pred(val_probs)"
   ]
  },
  {
   "cell_type": "code",
   "execution_count": null,
   "metadata": {
    "collapsed": false
   },
   "outputs": [],
   "source": []
  },
  {
   "cell_type": "code",
   "execution_count": null,
   "metadata": {
    "collapsed": false
   },
   "outputs": [
    {
     "data": {
      "text/plain": [
       "23528471808"
      ]
     },
     "execution_count": null,
     "metadata": {},
     "output_type": "execute_result"
    }
   ],
   "source": [
    "memory_allocated_size = paddle.device.cuda.memory_allocated(\"gpu:0\")\r\n",
    "memory_allocated_size"
   ]
  },
  {
   "cell_type": "code",
   "execution_count": null,
   "metadata": {
    "collapsed": false
   },
   "outputs": [],
   "source": [
    "paddle.device.cuda.empty_cache()"
   ]
  },
  {
   "cell_type": "code",
   "execution_count": null,
   "metadata": {
    "collapsed": false
   },
   "outputs": [],
   "source": []
  }
 ],
 "metadata": {
  "kernelspec": {
   "display_name": "Python 3",
   "language": "python",
   "name": "py35-paddle1.2.0"
  },
  "language_info": {
   "codemirror_mode": {
    "name": "ipython",
    "version": 3
   },
   "file_extension": ".py",
   "mimetype": "text/x-python",
   "name": "python",
   "nbconvert_exporter": "python",
   "pygments_lexer": "ipython3",
   "version": "3.7.4"
  }
 },
 "nbformat": 4,
 "nbformat_minor": 1
}
