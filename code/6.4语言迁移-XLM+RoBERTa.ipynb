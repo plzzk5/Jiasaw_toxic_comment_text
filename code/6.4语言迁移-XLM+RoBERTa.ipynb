{
 "cells": [
  {
   "cell_type": "markdown",
   "metadata": {},
   "source": [
    "## XLM-Roberta"
   ]
  },
  {
   "cell_type": "code",
   "execution_count": null,
   "metadata": {},
   "outputs": [],
   "source": [
    "import pandas as pd\n",
    "import numpy as np\n",
    "import matplotlib.pyplot as plt\n",
    "import seaborn as sns\n",
    "import re\n",
    "import tensorflow as tf\n",
    "from tensorflow import keras\n",
    "import nltk\n",
    "import warnings\n",
    "warnings.filterwarnings('ignore')\n",
    "import random\n",
    "from transformers import AutoTokenizer, TFAutoModel, AutoModelWithLMHead\n",
    "from sklearn.model_selection import StratifiedKFold\n",
    "import tensorflow.keras.backend as K\n",
    "from tqdm.notebook import tqdm\n",
    "from sklearn.utils import shuffle"
   ]
  },
  {
   "cell_type": "markdown",
   "metadata": {},
   "source": [
    "#### Dataset"
   ]
  },
  {
   "cell_type": "code",
   "execution_count": null,
   "metadata": {},
   "outputs": [],
   "source": [
    "train1 = pd.read_csv(\"C:/Users/25529/Downloads/jigsaw/jigsaw-toxic-comment-train.csv\")\n",
    "train2 = pd.read_csv(\"C:/Users/25529/Downloads/jigsaw/jigsaw-unintended-bias-train.csv\")\n",
    "test = pd.read_csv('C:/Users/25529/Downloads/jigsaw/validation.csv')"
   ]
  },
  {
   "cell_type": "code",
   "execution_count": null,
   "metadata": {},
   "outputs": [
    {
     "data": {
      "text/plain": [
       "<AxesSubplot:xlabel='toxic', ylabel='count'>"
      ]
     },
     "metadata": {},
     "output_type": "display_data"
    },
    {
     "data": {
      "image/png": "[encoded data removed]",
      "text/plain": [
       "<Figure size 432x288 with 1 Axes>"
      ]
     },
     "metadata": {},
     "output_type": "display_data"
    }
   ],
   "source": [
    "sns.countplot(train1['toxic'])"
   ]
  },
  {
   "cell_type": "code",
   "execution_count": null,
   "metadata": {},
   "outputs": [
    {
     "data": {
      "text/plain": [
       "(111384, 2)"
      ]
     },
     "metadata": {},
     "output_type": "display_data"
    }
   ],
   "source": [
    "train1 = pd.concat([train1[['comment_text', 'toxic']].query('toxic == 0').sample(90000, random_state = 101),\n",
    "                   train1[['comment_text', 'toxic']].query('toxic == 1')])\n",
    "train1.shape"
   ]
  },
  {
   "cell_type": "code",
   "execution_count": null,
   "metadata": {},
   "outputs": [
    {
     "data": {
      "text/plain": [
       "<AxesSubplot:xlabel='toxic', ylabel='count'>"
      ]
     },
     "metadata": {},
     "output_type": "display_data"
    },
    {
     "data": {
      "image/png": "[encoded data removed]",
      "text/plain": [
       "<Figure size 432x288 with 1 Axes>"
      ]
     },
     "metadata": {},
     "output_type": "display_data"
    }
   ],
   "source": [
    "sns.countplot(train1['toxic'])"
   ]
  },
  {
   "cell_type": "code",
   "execution_count": null,
   "metadata": {},
   "outputs": [
    {
     "data": {
      "text/plain": [
       "(173247, 2)"
      ]
     },
     "metadata": {},
     "output_type": "display_data"
    }
   ],
   "source": [
    "train2.loc[train2['toxic']>=0.7, 'toxic'] = 1\n",
    "train = pd.concat([train1, train2[['comment_text', 'toxic']].query('toxic == 1')])\n",
    "train.shape"
   ]
  },
  {
   "cell_type": "code",
   "execution_count": null,
   "metadata": {},
   "outputs": [
    {
     "data": {
      "text/plain": [
       "<AxesSubplot:xlabel='toxic', ylabel='count'>"
      ]
     },
     "metadata": {},
     "output_type": "display_data"
    },
    {
     "data": {
      "image/png": "[encoded data removed]",
      "text/plain": [
       "<Figure size 432x288 with 1 Axes>"
      ]
     },
     "metadata": {},
     "output_type": "display_data"
    }
   ],
   "source": [
    "sns.countplot(train['toxic'])"
   ]
  },
  {
   "cell_type": "code",
   "execution_count": null,
   "metadata": {},
   "outputs": [
    {
     "data": {
      "text/plain": [
       "<AxesSubplot:xlabel='toxic', ylabel='count'>"
      ]
     },
     "metadata": {},
     "output_type": "display_data"
    },
    {
     "data": {
      "image/png": "[encoded data removed]",
      "text/plain": [
       "<Figure size 432x288 with 1 Axes>"
      ]
     },
     "metadata": {},
     "output_type": "display_data"
    }
   ],
   "source": [
    "sns.countplot(test['toxic'])"
   ]
  },
  {
   "cell_type": "code",
   "execution_count": null,
   "metadata": {},
   "outputs": [
    {
     "data": {
      "text/plain": [
       "<AxesSubplot:xlabel='lang', ylabel='count'>"
      ]
     },
     "metadata": {},
     "output_type": "display_data"
    },
    {
     "data": {
      "image/png": "[encoded data removed]",
      "text/plain": [
       "<Figure size 432x288 with 1 Axes>"
      ]
     },
     "metadata": {},
     "output_type": "display_data"
    }
   ],
   "source": [
    "sns.countplot(test['lang'])"
   ]
  },
  {
   "cell_type": "code",
   "execution_count": null,
   "metadata": {},
   "outputs": [],
   "source": [
    "tokenizer = AutoTokenizer.from_pretrained(\"jplu/tf-xlm-roberta-large\")"
   ]
  },
  {
   "cell_type": "code",
   "execution_count": null,
   "metadata": {},
   "outputs": [],
   "source": [
    "MAX_LEN = 66\n",
    "def preprocess(data, max_seq_length = MAX_LEN, tokenizer = tokenizer):    \n",
    "    ids = []\n",
    "    masks = []\n",
    "    segment = []\n",
    "    for i in tqdm(range(len(data))):\n",
    "        \n",
    "        tokens = tokenizer.tokenize(data[i])\n",
    "        if len(tokens) > max_seq_length - 2:\n",
    "            tokens = tokens[ : max_seq_length - 2]\n",
    "\n",
    "        # Converting tokens to ids\n",
    "        input_ids = tokenizer.convert_tokens_to_ids([\"[CLS]\"] + tokens + [\"[SEP]\"])\n",
    "        # Added [CLS] and [SEP] as required to BERT Model\n",
    "\n",
    "        # Input mask\n",
    "        input_masks = [1] * len(input_ids)\n",
    "\n",
    "        # padding upto max length\n",
    "        padding = max_seq_length - len(input_ids)\n",
    "        input_ids.extend([0] * padding)\n",
    "        input_masks.extend([0] * padding)\n",
    "        segment_ids =[0]* max_seq_length\n",
    "        \n",
    "        \n",
    "        ids.append(input_ids)\n",
    "        masks.append(input_masks)\n",
    "        segment.append(segment_ids)\n",
    "    \n",
    "    return (np.array(ids), np.array(masks), np.array(segment))"
   ]
  },
  {
   "cell_type": "code",
   "execution_count": null,
   "metadata": {},
   "outputs": [
    {
     "data": {
      "application/vnd.jupyter.widget-view+json": {
       "model_id": "8265e33297c54c7995dd8fdb78e18d7d",
       "version_major": 2,
       "version_minor": 0
      },
      "text/plain": [
       "  0%|          | 0/173247 [00:00<?, ?it/s]"
      ]
     },
     "metadata": {},
     "output_type": "display_data"
    },
    {
     "data": {
      "application/vnd.jupyter.widget-view+json": {
       "model_id": "629abb66c58843e6aae4d1305681ea0b",
       "version_major": 2,
       "version_minor": 0
      },
      "text/plain": [
       "  0%|          | 0/8000 [00:00<?, ?it/s]"
      ]
     },
     "metadata": {},
     "output_type": "display_data"
    }
   ],
   "source": [
    "train_ids, train_masks, train_segment =  preprocess(train[\"comment_text\"].values)\n",
    "test_ids, test_masks, test_segment =  preprocess(test[\"comment_text\"].values)\n",
    "y_train = train['toxic'].values\n",
    "y_test = test['toxic'].values"
   ]
  },
  {
   "cell_type": "markdown",
   "metadata": {},
   "source": [
    "#### model"
   ]
  },
  {
   "cell_type": "code",
   "execution_count": null,
   "metadata": {},
   "outputs": [],
   "source": [
    "BATCH_SIZE = 4\n",
    "\n",
    "def model(roberta_layer, max_len = MAX_LEN):\n",
    "    input_word_ids = tf.keras.layers.Input(shape=(max_len,), dtype=tf.int32, name=\"input_word_ids\")\n",
    "    input_mask = tf.keras.layers.Input(shape=(max_len,), dtype=tf.int32, name=\"input_mask\")\n",
    "    segment_ids = tf.keras.layers.Input(shape=(max_len,), dtype=tf.int32, name=\"segment_ids\")\n",
    "    pooled_output, sequence_output = roberta_layer([input_word_ids, input_mask, segment_ids])\n",
    "\n",
    "    # There are two outputs: a pooled_output of shape [batch_size, 768] with representations for \n",
    "    # the entire input sequences and a sequence_output of shape [batch_size, max_seq_length, 768] \n",
    "    # with representations for each input token (in context)\n",
    "\n",
    "\n",
    "    x = pooled_output\n",
    "    x = tf.keras.layers.Flatten()(x)\n",
    "    x = tf.keras.layers.Dense(128, activation = 'relu')(x)\n",
    "    x = tf.keras.layers.Dropout(0.3)(x)\n",
    "    x = tf.keras.layers.Dense(32, activation = 'relu')(x)\n",
    "    x = tf.keras.layers.Dropout(0.2)(x)\n",
    "    x = tf.keras.layers.Dense(1, activation = 'sigmoid')(x)\n",
    "    \n",
    "    model = tf.keras.Model(inputs = [input_word_ids, input_mask, segment_ids], outputs = x)\n",
    "    \n",
    "    return model"
   ]
  },
  {
   "cell_type": "code",
   "execution_count": null,
   "metadata": {},
   "outputs": [],
   "source": [
    "roberta_layer = TFAutoModel.from_pretrained(\"jplu/tf-xlm-roberta-large\", trainable = True)\n",
    "model = model(roberta_layer)\n",
    "model.compile(tf.keras.optimizers.Adam(lr=1e-5), loss=\"binary_crossentropy\", metrics=[\"accuracy\"])\n",
    "model.summary()"
   ]
  },
  {
   "cell_type": "code",
   "execution_count": null,
   "metadata": {},
   "outputs": [],
   "source": [
    "skf = StratifiedKFold(n_splits = 4, shuffle = True)\n",
    "skf.get_n_splits(train_ids, y_train)\n",
    "skf"
   ]
  },
  {
   "cell_type": "markdown",
   "metadata": {},
   "source": [
    "#### train"
   ]
  },
  {
   "cell_type": "code",
   "execution_count": null,
   "metadata": {},
   "outputs": [],
   "source": [
    "i = 1\n",
    "preds = []\n",
    "for train_index, test_index in skf.split(train_ids, y_train):\n",
    "    print(\"\\n\")\n",
    "    print(\"#\" * 20)\n",
    "    print(f\"FOLD No {i}\")\n",
    "    print(\"#\" * 20)\n",
    "    \n",
    "    \n",
    "    tr_ids = train_ids[train_index]\n",
    "    tr_masks = train_masks[train_index]\n",
    "    tr_segment = train_segment[train_index]\n",
    "    \n",
    "    vd_ids = train_ids[test_index]\n",
    "    vd_masks = train_masks[test_index]\n",
    "    vd_segment = train_segment[test_index]\n",
    "    \n",
    "    y_tr = y_train[train_index]\n",
    "    y_vd = y_train[test_index]\n",
    "    \n",
    "    \n",
    "    history = model.fit(\n",
    "    (tr_ids, tr_masks, tr_segment), y_tr,epochs=2,batch_size=BATCH_SIZE,validation_data = ((vd_ids, vd_masks, vd_segment), y_vd),\n",
    "    steps_per_epoch = len(tr_ids)//BATCH_SIZE)\n",
    "\n",
    "    predictions = model.predict((test_ids, test_masks, test_segment))\n",
    "    preds.append(predictions)\n",
    "    \n",
    "    i += 1\n",
    "    K.clear_session()"
   ]
  },
  {
   "cell_type": "code",
   "execution_count": null,
   "metadata": {},
   "outputs": [],
   "source": [
    "predictions =  0.25*preds[0] + 0.25*preds[1] + 0.25*preds[2] + 0.25*preds[3]"
   ]
  },
  {
   "cell_type": "markdown",
   "metadata": {},
   "source": [
    "## 最终结果 \n",
    "#### test_accuracy:0.861625\n",
    "#### test_f1:0.5570228091236494"
   ]
  }
 ],
 "metadata": {
  "language_info": {
   "name": "python"
  },
  "orig_nbformat": 4
 },
 "nbformat": 4,
 "nbformat_minor": 2
}
